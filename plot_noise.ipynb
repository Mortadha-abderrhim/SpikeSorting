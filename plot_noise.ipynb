{
 "cells": [
  {
   "cell_type": "markdown",
   "metadata": {},
   "source": [
    "### useful functions"
   ]
  },
  {
   "cell_type": "code",
   "execution_count": 1,
   "metadata": {
    "scrolled": true
   },
   "outputs": [
    {
     "name": "stderr",
     "output_type": "stream",
     "text": [
      "C:\\Users\\morta\\anaconda3\\lib\\site-packages\\scipy\\__init__.py:146: UserWarning: A NumPy version >=1.16.5 and <1.23.0 is required for this version of SciPy (detected version 1.23.1\n",
      "  warnings.warn(f\"A NumPy version >={np_minversion} and <{np_maxversion}\"\n",
      "C:\\Users\\morta\\anaconda3\\lib\\site-packages\\sklearn\\utils\\linear_assignment_.py:18: FutureWarning: The linear_assignment_ module is deprecated in 0.21 and will be removed from 0.23. Use scipy.optimize.linear_sum_assignment instead.\n",
      "  warnings.warn(\n"
     ]
    }
   ],
   "source": [
    "from model import *"
   ]
  },
  {
   "cell_type": "markdown",
   "metadata": {},
   "source": [
    "# Prepare Dataset"
   ]
  },
  {
   "cell_type": "code",
   "execution_count": 2,
   "metadata": {},
   "outputs": [],
   "source": [
    "names = locals()\n",
    "for w in ['005','01','015','02']:\n",
    "    names['dataFile_e2'+str(w)] = '.\\Simulator\\C_Easy2_noise'+ str(w)+'.mat'\n",
    "    names['dataFile_e1'+str(w)] = '.\\Simulator\\C_Easy1_noise'+ str(w)+'.mat'\n",
    "    names['dataFile_d1'+str(w)] = '.\\Simulator\\C_Difficult1_noise'+ str(w)+'.mat'\n",
    "    names['dataFile_d2'+str(w)] = '.\\Simulator\\C_Difficult2_noise'+ str(w)+'.mat'# path is needed to be changed\n",
    "    names['data_e1'+str(w)],names['data_e2'+str(w)],names['data_d1'+str(w)],names['data_d2'+str(w)] = scio.loadmat(names['dataFile_e1'+str(w)]),scio.loadmat(names['dataFile_e2'+str(w)]),scio.loadmat(names['dataFile_d1'+str(w)]),scio.loadmat(names['dataFile_d2'+str(w)])\n",
    "    names['spikes_e1'+str(w)],names['spikes_e2'+str(w)],names['spikes_d1'+str(w)],names['spikes_d2'+str(w)] =  names['data_e1'+str(w)]['data'][0], names['data_e2'+str(w)]['data'][0],names['data_d1'+str(w)]['data'][0],names['data_d2'+str(w)]['data'][0]\n",
    "    names['index_e1'+str(w)] = names['index_e2'+str(w)] = names['index_d1'+str(w)] = names['index_d2'+str(w)] = np.array(range(len(names['spikes_e2'+str(w)])))\n",
    "    for i in ['_e1','_e2','_d1','_d2']:\n",
    "        names['min'+str(i)+str(w)],names['max'+str(i)+str(w)] = names['spikes'+str(i)+str(w)].min(), names['spikes'+str(i)+str(w)].max()\n",
    "        names['maxvalue'+str(i)+str(w)] = max(abs(names['min'+str(i)+str(w)]),names['max'+str(i)+str(w)])\n",
    "        names['spikes_nor'+str(i)+str(w)] = (names['spikes'+str(i)+str(w)])/names['maxvalue'+str(i)+str(w)]"
   ]
  },
  {
   "cell_type": "markdown",
   "metadata": {},
   "source": [
    "## Spike Sorting"
   ]
  },
  {
   "cell_type": "code",
   "execution_count": 8,
   "metadata": {
    "scrolled": false
   },
   "outputs": [
    {
     "data": {
      "application/vnd.jupyter.widget-view+json": {
       "model_id": "a857a2ce7bfc471da3c09f15d8467e38",
       "version_major": 2,
       "version_minor": 0
      },
      "text/plain": [
       "HBox(children=(FloatProgress(value=0.0, max=4.0), HTML(value='')))"
      ]
     },
     "metadata": {},
     "output_type": "display_data"
    },
    {
     "name": "stdout",
     "output_type": "stream",
     "text": [
      "0.9743954480796586\n",
      "0.9815078236130867\n",
      "0.9715504978662873\n",
      "0.9786628733997155\n",
      "0.972972972972973\n",
      "0.9780058651026393\n",
      "0.9838709677419355\n",
      "0.9868035190615836\n",
      "0.9853372434017595\n",
      "0.9868035190615836\n",
      "0.9852289512555391\n",
      "0.9852289512555391\n",
      "0.9807976366322009\n",
      "0.9778434268833087\n",
      "0.9689807976366323\n",
      "0.9895988112927192\n",
      "0.9851411589895989\n",
      "0.9851411589895989\n",
      "0.9806835066864784\n",
      "0.974739970282318\n",
      "0.9829787234042553\n",
      "0.9858156028368794\n",
      "0.9858156028368794\n",
      "0.9773049645390071\n",
      "0.9872340425531915\n",
      "0.9829545454545454\n",
      "0.9829545454545454\n",
      "0.9786931818181818\n",
      "0.984375\n",
      "0.984375\n",
      "0.9855072463768116\n",
      "0.946376811594203\n",
      "0.8289855072463768\n",
      "0.9826086956521739\n",
      "0.981159420289855\n",
      "0.9682539682539683\n",
      "0.98989898989899\n",
      "0.9956709956709957\n",
      "0.9841269841269841\n",
      "0.9841269841269841\n",
      "0.9755747126436781\n",
      "0.9741379310344828\n",
      "0.9669540229885057\n",
      "0.9741379310344828\n",
      "0.8074712643678161\n",
      "0.9838945827232797\n",
      "0.9838945827232797\n",
      "0.986822840409956\n",
      "0.9897510980966325\n",
      "0.9838945827232797\n",
      "0.9755395683453237\n",
      "0.9597122302158273\n",
      "0.9366906474820144\n",
      "0.9798561151079137\n",
      "0.939568345323741\n",
      "0.9840116279069767\n",
      "0.9825581395348837\n",
      "0.9781976744186046\n",
      "0.9651162790697675\n",
      "0.9825581395348837\n",
      "0.9784172661870504\n",
      "0.9798561151079137\n",
      "0.9683453237410072\n",
      "0.9784172661870504\n",
      "0.9151079136690647\n",
      "0.9858356940509915\n",
      "0.9844192634560907\n",
      "0.9858356940509915\n",
      "0.9844192634560907\n",
      "0.9787535410764873\n",
      "0.9341142020497804\n",
      "0.8857979502196194\n",
      "0.9106881405563689\n",
      "0.9516837481698389\n",
      "0.9619326500732065\n",
      "0.7796852646638054\n",
      "0.9856938483547926\n",
      "0.8154506437768241\n",
      "0.7811158798283262\n",
      "0.9413447782546495\n",
      "\n"
     ]
    }
   ],
   "source": [
    "## Evaluate for each noise dataset at each noise level\n",
    "fact = 24\n",
    "best_scores = []\n",
    "noise = [0.05,0.1,0.15,0.2]\n",
    "for ind,w in enumerate(tqdm(['005','01','015','02'])):\n",
    "    scores_noise= []\n",
    "    for j in ['e1','e2','d1','d2']:\n",
    "        spike_times = names['data_'+j+str(w)]['spike_times'][0][0][0]\n",
    "        signal = names['spikes_'+j+w]\n",
    "        sigma = np.std(signal)\n",
    "        signals = list(map(lambda x: signal[x+15:x+40],spike_times))\n",
    "        features= [feature_extraction(signal,factor('24')) for signal in signals]\n",
    "        gt = names['data_'+j+str(w)]['spike_class'][0][0][0]\n",
    "        scores = []\n",
    "        l1_params ={\n",
    "            'distance':l2,\n",
    "            'thresh':thresh_calc(sigma,'24'),\n",
    "        }\n",
    "        for loop in range(5):\n",
    "            l1_score = train_predict(l1_params,features,gt,approx_update,False)\n",
    "            print(l1_score)\n",
    "            scores.append(l1_score)\n",
    "\n",
    "        scores_noise.append(scores)\n",
    "    best_scores.append(scores_noise)"
   ]
  },
  {
   "cell_type": "code",
   "execution_count": 11,
   "metadata": {},
   "outputs": [],
   "source": [
    "values = np.mean(np.array\n",
    "                 (best_scores),axis=2)\n",
    "stes = (np.std(np.array(best_scores)*100,axis=2).T/np.sqrt(20))[1]\n"
   ]
  },
  {
   "cell_type": "code",
   "execution_count": 15,
   "metadata": {},
   "outputs": [
    {
     "data": {
      "text/plain": [
       "array([[0.97581792, 0.98416422, 0.97961595, 0.98306092],\n",
       "       [0.98382979, 0.98267045, 0.94492754, 0.98441558],\n",
       "       [0.93965517, 0.98565154, 0.95827338, 0.97848837],\n",
       "       [0.96402878, 0.98385269, 0.92884334, 0.86065808]])"
      ]
     },
     "execution_count": 15,
     "metadata": {},
     "output_type": "execute_result"
    }
   ],
   "source": [
    "values"
   ]
  },
  {
   "cell_type": "code",
   "execution_count": 12,
   "metadata": {},
   "outputs": [],
   "source": [
    "matplotlib.rcParams['font.family'] = \"sans-serif\"\n",
    "matplotlib.rcParams['font.sans-serif'] = \"Comic Sans MS\""
   ]
  },
  {
   "cell_type": "code",
   "execution_count": 16,
   "metadata": {},
   "outputs": [
    {
     "data": {
      "text/plain": [
       "<matplotlib.legend.Legend at 0x1616d163580>"
      ]
     },
     "execution_count": 16,
     "metadata": {},
     "output_type": "execute_result"
    },
    {
     "data": {
      "image/png": "[encoded data removed]",
      "text/plain": [
       "<Figure size 432x345.6 with 1 Axes>"
      ]
     },
     "metadata": {
      "needs_background": "light"
     },
     "output_type": "display_data"
    }
   ],
   "source": [
    "plt.figure(figsize=(6,4.8))\n",
    "noise= [0.05,0.1,0.15,0.2]\n",
    "titles = ['Easy 1','Easy 2', 'Difficult 1','Difficult 2']\n",
    "\n",
    "for i in range(4):\n",
    "    plt.plot(noise,values[:,i]*100,color = 'rgbk'[i],marker='o',markersize=6,linewidth = '4',label=titles[i])\n",
    "plt.ylim(50,100)\n",
    "plt.xticks(noise,size = 14)\n",
    "plt.yticks(size = 14)\n",
    "plt.xlabel('Noise level',fontsize=15,fontname=\"Arial\")\n",
    "plt.ylabel('Sorting Accuracy (%)',fontsize=15,fontname=\"Arial\")\n",
    "plt.legend(loc='lower left',prop={'family': 'Arial'})\n"
   ]
  },
  {
   "cell_type": "code",
   "execution_count": null,
   "metadata": {},
   "outputs": [],
   "source": []
  }
 ],
 "metadata": {
  "kernelspec": {
   "display_name": "Python 3",
   "language": "python",
   "name": "python3"
  },
  "language_info": {
   "codemirror_mode": {
    "name": "ipython",
    "version": 3
   },
   "file_extension": ".py",
   "mimetype": "text/x-python",
   "name": "python",
   "nbconvert_exporter": "python",
   "pygments_lexer": "ipython3",
   "version": "3.8.3"
  }
 },
 "nbformat": 4,
 "nbformat_minor": 5
}
