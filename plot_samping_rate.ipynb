{
 "cells": [
  {
   "cell_type": "markdown",
   "metadata": {},
   "source": [
    "### useful functions"
   ]
  },
  {
   "cell_type": "code",
   "execution_count": 1,
   "metadata": {},
   "outputs": [
    {
     "name": "stderr",
     "output_type": "stream",
     "text": [
      "C:\\Users\\morta\\anaconda3\\lib\\site-packages\\scipy\\__init__.py:146: UserWarning: A NumPy version >=1.16.5 and <1.23.0 is required for this version of SciPy (detected version 1.23.1\n",
      "  warnings.warn(f\"A NumPy version >={np_minversion} and <{np_maxversion}\"\n",
      "C:\\Users\\morta\\anaconda3\\lib\\site-packages\\sklearn\\utils\\linear_assignment_.py:18: FutureWarning: The linear_assignment_ module is deprecated in 0.21 and will be removed from 0.23. Use scipy.optimize.linear_sum_assignment instead.\n",
      "  warnings.warn(\n"
     ]
    }
   ],
   "source": [
    "from model import *"
   ]
  },
  {
   "cell_type": "markdown",
   "metadata": {},
   "source": [
    "# Dataset: C_Easy2 & Difficult 1 & Difficult 2"
   ]
  },
  {
   "cell_type": "markdown",
   "metadata": {},
   "source": [
    "### prepare data SNR=20"
   ]
  },
  {
   "cell_type": "code",
   "execution_count": 2,
   "metadata": {},
   "outputs": [],
   "source": [
    "dataFile_e1 = './Simulator/C_Easy1_noise01.mat'\n",
    "dataFile_e2 = './Simulator/C_Easy2_noise01.mat'\n",
    "dataFile_d1 = './Simulator/C_Difficult1_noise01.mat'\n",
    "dataFile_d2 = './Simulator/C_Difficult2_noise01.mat'\n",
    "data_e1,data_e2,data_d1,data_d2 = scio.loadmat(dataFile_e1),scio.loadmat(dataFile_e2),scio.loadmat(dataFile_d1),scio.loadmat(dataFile_d2)\n",
    "spikes_e1,spikes_e2,spikes_d1,spikes_d2 =  data_e1['data'][0],data_e2['data'][0],data_d1['data'][0],data_d2['data'][0]\n",
    "index_e1,index_e2,index_d1,index_d2 = np.array(range(len(spikes_e1))),np.array(range(len(spikes_e2))),np.array(range(len(spikes_d1))),np.array(range(len(spikes_d2)))"
   ]
  },
  {
   "cell_type": "code",
   "execution_count": 3,
   "metadata": {},
   "outputs": [],
   "source": [
    "names = locals()\n",
    "for i in ['24','20','16','12','8']:\n",
    "    names['spikes_e1_sr_' + str(i)] = signal.resample(spikes_e1,int(1440000/24*int(i)))\n",
    "    names['index_e1_sr_' + str(i)] = index_e1[:int(1440000/24*int(i))]\n",
    "    names['spikes_e2_sr_' + str(i)] = signal.resample(spikes_e2,int(1440000/24*int(i)))\n",
    "    names['index_e2_sr_' + str(i)] = index_e2[:int(1440000/24*int(i))]\n",
    "    names['spikes_d1_sr_' + str(i)] = signal.resample(spikes_d1,int(1440000/24*int(i)))\n",
    "    names['index_d1_sr_' + str(i)] = index_d1[:int(1440000/24*int(i))]\n",
    "    names['spikes_d2_sr_' + str(i)] = signal.resample(spikes_d2,int(1440000/24*int(i)))\n",
    "    names['index_d2_sr_' + str(i)] = index_d2[:int(1440000/24*int(i))]"
   ]
  },
  {
   "cell_type": "code",
   "execution_count": 4,
   "metadata": {},
   "outputs": [],
   "source": [
    "def hypertune(params,datas,gts,update,merging=False):\n",
    "    ## We redefine hypertune for this case as the feature extraction depends on the input sampling rate\n",
    "    # and hence needs to be done inside the function\n",
    "    keys, values = zip(*params.items())\n",
    "    permutations_dict = [dict(zip(keys, v)) for v in itertools.product(*values)]\n",
    "    max_score = 0\n",
    "    for param in tqdm(permutations_dict):\n",
    "        score = 0\n",
    "        for i in range(len(datas)):\n",
    "            \n",
    "            data = datas[i]\n",
    "            data= [feature_extraction(signal,param['fact']) for signal in data]\n",
    "            gt= gts[i]\n",
    "            X_train, X_test, y_train, y_test = train_test_split(data, gt, test_size=0.2,shuffle=True)\n",
    "            sorter = Sorter(param['distance'],param['thresh'],update)\n",
    "            c_hat = np.array([sorter.train(x) for x in X_train])\n",
    "            c_hat = np.array([sorter.train(x,test=True) for x in X_test])\n",
    "            score += accuracy(y_test,c_hat)\n",
    "        \n",
    "        if score>max_score and (-1) not in set(c_hat):\n",
    "            best_sorter = sorter\n",
    "            max_score = score\n",
    "            best_param = param\n",
    "    print(best_param,max_score/len(datas))\n",
    "    return best_param,max_score/len(datas)"
   ]
  },
  {
   "cell_type": "code",
   "execution_count": 5,
   "metadata": {},
   "outputs": [],
   "source": [
    "def thresh_calc(sigma,i):\n",
    "    return (-1/64 + 13 * sigma/32)*factor(i)\n",
    "factor = lambda i: 24/int(i)+1 if int(i)!=24 else 1"
   ]
  },
  {
   "cell_type": "code",
   "execution_count": 6,
   "metadata": {},
   "outputs": [],
   "source": [
    "factor = lambda i: 24/int(i)+1 if int(i)!=24 else 1"
   ]
  },
  {
   "cell_type": "code",
   "execution_count": 7,
   "metadata": {},
   "outputs": [
    {
     "data": {
      "text/plain": [
       "2.5"
      ]
     },
     "execution_count": 7,
     "metadata": {},
     "output_type": "execute_result"
    }
   ],
   "source": [
    "factor('16')"
   ]
  },
  {
   "cell_type": "code",
   "execution_count": null,
   "metadata": {},
   "outputs": [
    {
     "data": {
      "application/vnd.jupyter.widget-view+json": {
       "model_id": "0ebd0cd44bfb4bb396c8569a4aebdeb1",
       "version_major": 2,
       "version_minor": 0
      },
      "text/plain": [
       "HBox(children=(FloatProgress(value=0.0, max=5.0), HTML(value='')))"
      ]
     },
     "metadata": {},
     "output_type": "display_data"
    },
    {
     "data": {
      "application/vnd.jupyter.widget-view+json": {
       "model_id": "98917d78466d4b3d8385892bbd62a9b1",
       "version_major": 2,
       "version_minor": 0
      },
      "text/plain": [
       "HBox(children=(FloatProgress(value=0.0, max=1.0), HTML(value='')))"
      ]
     },
     "metadata": {},
     "output_type": "display_data"
    },
    {
     "name": "stdout",
     "output_type": "stream",
     "text": [
      "\n",
      "{'distance': <function l2 at 0x000001D66A0DF670>, 'thresh': 0.05551299007260306, 'fact': 1} 0.9787234042553191\n",
      "({'distance': <function l2 at 0x000001D66A0DF670>, 'thresh': 0.05551299007260306, 'fact': 1}, 0.9787234042553191)\n"
     ]
    },
    {
     "name": "stderr",
     "output_type": "stream",
     "text": [
      "C:\\Users\\morta\\anaconda3\\lib\\site-packages\\sklearn\\utils\\linear_assignment_.py:124: FutureWarning: The linear_assignment function is deprecated in 0.21 and will be removed from 0.23. Use scipy.optimize.linear_sum_assignment instead.\n",
      "  warnings.warn(\n"
     ]
    },
    {
     "data": {
      "application/vnd.jupyter.widget-view+json": {
       "model_id": "f9b3b3ee39ef436694a66d3eb8852699",
       "version_major": 2,
       "version_minor": 0
      },
      "text/plain": [
       "HBox(children=(FloatProgress(value=0.0, max=1.0), HTML(value='')))"
      ]
     },
     "metadata": {},
     "output_type": "display_data"
    },
    {
     "name": "stdout",
     "output_type": "stream",
     "text": [
      "\n",
      "{'distance': <function l2 at 0x000001D66A0DF670>, 'thresh': 0.05551299007260306, 'fact': 1} 0.9801418439716312\n",
      "({'distance': <function l2 at 0x000001D66A0DF670>, 'thresh': 0.05551299007260306, 'fact': 1}, 0.9801418439716312)\n"
     ]
    },
    {
     "data": {
      "application/vnd.jupyter.widget-view+json": {
       "model_id": "687480c3cf894652bd24db6c9abb4c23",
       "version_major": 2,
       "version_minor": 0
      },
      "text/plain": [
       "HBox(children=(FloatProgress(value=0.0, max=1.0), HTML(value='')))"
      ]
     },
     "metadata": {},
     "output_type": "display_data"
    },
    {
     "name": "stdout",
     "output_type": "stream",
     "text": [
      "\n",
      "{'distance': <function l2 at 0x000001D66A0DF670>, 'thresh': 0.05551299007260306, 'fact': 1} 0.9801418439716312\n",
      "({'distance': <function l2 at 0x000001D66A0DF670>, 'thresh': 0.05551299007260306, 'fact': 1}, 0.9801418439716312)\n"
     ]
    },
    {
     "data": {
      "application/vnd.jupyter.widget-view+json": {
       "model_id": "40bcc43586424b7faad610ce3588eb2a",
       "version_major": 2,
       "version_minor": 0
      },
      "text/plain": [
       "HBox(children=(FloatProgress(value=0.0, max=1.0), HTML(value='')))"
      ]
     },
     "metadata": {},
     "output_type": "display_data"
    },
    {
     "name": "stdout",
     "output_type": "stream",
     "text": [
      "\n",
      "{'distance': <function l2 at 0x000001D66A0DF670>, 'thresh': 0.05551299007260306, 'fact': 1} 0.9843971631205674\n",
      "({'distance': <function l2 at 0x000001D66A0DF670>, 'thresh': 0.05551299007260306, 'fact': 1}, 0.9843971631205674)\n"
     ]
    },
    {
     "data": {
      "application/vnd.jupyter.widget-view+json": {
       "model_id": "45e5a6095ae6406898134512b7aa7c38",
       "version_major": 2,
       "version_minor": 0
      },
      "text/plain": [
       "HBox(children=(FloatProgress(value=0.0, max=1.0), HTML(value='')))"
      ]
     },
     "metadata": {},
     "output_type": "display_data"
    },
    {
     "name": "stdout",
     "output_type": "stream",
     "text": [
      "\n",
      "{'distance': <function l2 at 0x000001D66A0DF670>, 'thresh': 0.05551299007260306, 'fact': 1} 0.9773049645390071\n",
      "({'distance': <function l2 at 0x000001D66A0DF670>, 'thresh': 0.05551299007260306, 'fact': 1}, 0.9773049645390071)\n"
     ]
    },
    {
     "data": {
      "application/vnd.jupyter.widget-view+json": {
       "model_id": "8119c32aaff149f998afe6848d093889",
       "version_major": 2,
       "version_minor": 0
      },
      "text/plain": [
       "HBox(children=(FloatProgress(value=0.0, max=1.0), HTML(value='')))"
      ]
     },
     "metadata": {},
     "output_type": "display_data"
    },
    {
     "name": "stdout",
     "output_type": "stream",
     "text": [
      "\n",
      "{'distance': <function l2 at 0x000001D66A0DF670>, 'thresh': 0.05551299007260306, 'fact': 1} 0.9801418439716312\n",
      "({'distance': <function l2 at 0x000001D66A0DF670>, 'thresh': 0.05551299007260306, 'fact': 1}, 0.9801418439716312)\n"
     ]
    },
    {
     "data": {
      "application/vnd.jupyter.widget-view+json": {
       "model_id": "11d313b58eb542339305fb26fdde7195",
       "version_major": 2,
       "version_minor": 0
      },
      "text/plain": [
       "HBox(children=(FloatProgress(value=0.0, max=1.0), HTML(value='')))"
      ]
     },
     "metadata": {},
     "output_type": "display_data"
    },
    {
     "name": "stdout",
     "output_type": "stream",
     "text": [
      "\n",
      "{'distance': <function l2 at 0x000001D66A0DF670>, 'thresh': 0.05551299007260306, 'fact': 1} 0.9716312056737588\n",
      "({'distance': <function l2 at 0x000001D66A0DF670>, 'thresh': 0.05551299007260306, 'fact': 1}, 0.9716312056737588)\n"
     ]
    },
    {
     "data": {
      "application/vnd.jupyter.widget-view+json": {
       "model_id": "c15de0418dd94f2b8505fe73a31408bc",
       "version_major": 2,
       "version_minor": 0
      },
      "text/plain": [
       "HBox(children=(FloatProgress(value=0.0, max=1.0), HTML(value='')))"
      ]
     },
     "metadata": {},
     "output_type": "display_data"
    },
    {
     "name": "stdout",
     "output_type": "stream",
     "text": [
      "\n",
      "{'distance': <function l2 at 0x000001D66A0DF670>, 'thresh': 0.05551299007260306, 'fact': 1} 0.9843971631205674\n",
      "({'distance': <function l2 at 0x000001D66A0DF670>, 'thresh': 0.05551299007260306, 'fact': 1}, 0.9843971631205674)\n"
     ]
    },
    {
     "data": {
      "application/vnd.jupyter.widget-view+json": {
       "model_id": "cd69b5884c4f4311972f999780bc595e",
       "version_major": 2,
       "version_minor": 0
      },
      "text/plain": [
       "HBox(children=(FloatProgress(value=0.0, max=1.0), HTML(value='')))"
      ]
     },
     "metadata": {},
     "output_type": "display_data"
    },
    {
     "name": "stdout",
     "output_type": "stream",
     "text": [
      "\n",
      "{'distance': <function l2 at 0x000001D66A0DF670>, 'thresh': 0.05551299007260306, 'fact': 1} 0.9872340425531915\n",
      "({'distance': <function l2 at 0x000001D66A0DF670>, 'thresh': 0.05551299007260306, 'fact': 1}, 0.9872340425531915)\n"
     ]
    },
    {
     "data": {
      "application/vnd.jupyter.widget-view+json": {
       "model_id": "37576731019b47c5a0843a7aa2f00206",
       "version_major": 2,
       "version_minor": 0
      },
      "text/plain": [
       "HBox(children=(FloatProgress(value=0.0, max=1.0), HTML(value='')))"
      ]
     },
     "metadata": {},
     "output_type": "display_data"
    },
    {
     "name": "stdout",
     "output_type": "stream",
     "text": [
      "\n",
      "{'distance': <function l2 at 0x000001D66A0DF670>, 'thresh': 0.05551299007260306, 'fact': 1} 0.9829787234042553\n",
      "({'distance': <function l2 at 0x000001D66A0DF670>, 'thresh': 0.05551299007260306, 'fact': 1}, 0.9829787234042553)\n"
     ]
    },
    {
     "data": {
      "application/vnd.jupyter.widget-view+json": {
       "model_id": "b02713b15f344c0485a99a55448077cc",
       "version_major": 2,
       "version_minor": 0
      },
      "text/plain": [
       "HBox(children=(FloatProgress(value=0.0, max=1.0), HTML(value='')))"
      ]
     },
     "metadata": {},
     "output_type": "display_data"
    },
    {
     "name": "stdout",
     "output_type": "stream",
     "text": [
      "\n",
      "{'distance': <function l2 at 0x000001D66A0DF670>, 'thresh': 0.04836067672642683, 'fact': 1} 0.9872159090909091\n",
      "({'distance': <function l2 at 0x000001D66A0DF670>, 'thresh': 0.04836067672642683, 'fact': 1}, 0.9872159090909091)\n"
     ]
    },
    {
     "data": {
      "application/vnd.jupyter.widget-view+json": {
       "model_id": "1bf132322fe84591abddaee92b3c7c3e",
       "version_major": 2,
       "version_minor": 0
      },
      "text/plain": [
       "HBox(children=(FloatProgress(value=0.0, max=1.0), HTML(value='')))"
      ]
     },
     "metadata": {},
     "output_type": "display_data"
    },
    {
     "name": "stdout",
     "output_type": "stream",
     "text": [
      "\n",
      "{'distance': <function l2 at 0x000001D66A0DF670>, 'thresh': 0.04836067672642683, 'fact': 1} 0.9786931818181818\n",
      "({'distance': <function l2 at 0x000001D66A0DF670>, 'thresh': 0.04836067672642683, 'fact': 1}, 0.9786931818181818)\n"
     ]
    },
    {
     "data": {
      "application/vnd.jupyter.widget-view+json": {
       "model_id": "09dc8c3310e642d1ba5c36dc49ad64af",
       "version_major": 2,
       "version_minor": 0
      },
      "text/plain": [
       "HBox(children=(FloatProgress(value=0.0, max=1.0), HTML(value='')))"
      ]
     },
     "metadata": {},
     "output_type": "display_data"
    },
    {
     "name": "stdout",
     "output_type": "stream",
     "text": [
      "\n",
      "{'distance': <function l2 at 0x000001D66A0DF670>, 'thresh': 0.04836067672642683, 'fact': 1} 0.9900568181818182\n",
      "({'distance': <function l2 at 0x000001D66A0DF670>, 'thresh': 0.04836067672642683, 'fact': 1}, 0.9900568181818182)\n"
     ]
    },
    {
     "data": {
      "application/vnd.jupyter.widget-view+json": {
       "model_id": "2fafcb99594b440090e47eea3bdcfb60",
       "version_major": 2,
       "version_minor": 0
      },
      "text/plain": [
       "HBox(children=(FloatProgress(value=0.0, max=1.0), HTML(value='')))"
      ]
     },
     "metadata": {},
     "output_type": "display_data"
    },
    {
     "name": "stdout",
     "output_type": "stream",
     "text": [
      "\n",
      "{'distance': <function l2 at 0x000001D66A0DF670>, 'thresh': 0.04836067672642683, 'fact': 1} 0.9758522727272727\n",
      "({'distance': <function l2 at 0x000001D66A0DF670>, 'thresh': 0.04836067672642683, 'fact': 1}, 0.9758522727272727)\n"
     ]
    },
    {
     "data": {
      "application/vnd.jupyter.widget-view+json": {
       "model_id": "c32dd18005f7418098bb1e220366dbba",
       "version_major": 2,
       "version_minor": 0
      },
      "text/plain": [
       "HBox(children=(FloatProgress(value=0.0, max=1.0), HTML(value='')))"
      ]
     },
     "metadata": {},
     "output_type": "display_data"
    },
    {
     "name": "stdout",
     "output_type": "stream",
     "text": [
      "\n",
      "{'distance': <function l2 at 0x000001D66A0DF670>, 'thresh': 0.04836067672642683, 'fact': 1} 0.9857954545454546\n",
      "({'distance': <function l2 at 0x000001D66A0DF670>, 'thresh': 0.04836067672642683, 'fact': 1}, 0.9857954545454546)\n"
     ]
    },
    {
     "data": {
      "application/vnd.jupyter.widget-view+json": {
       "model_id": "cb00d763329b48769fbe9e2e4300a630",
       "version_major": 2,
       "version_minor": 0
      },
      "text/plain": [
       "HBox(children=(FloatProgress(value=0.0, max=1.0), HTML(value='')))"
      ]
     },
     "metadata": {},
     "output_type": "display_data"
    },
    {
     "name": "stdout",
     "output_type": "stream",
     "text": [
      "\n",
      "{'distance': <function l2 at 0x000001D66A0DF670>, 'thresh': 0.04836067672642683, 'fact': 1} 0.9815340909090909\n",
      "({'distance': <function l2 at 0x000001D66A0DF670>, 'thresh': 0.04836067672642683, 'fact': 1}, 0.9815340909090909)\n"
     ]
    },
    {
     "data": {
      "application/vnd.jupyter.widget-view+json": {
       "model_id": "8f7e02acbab149c18cd4264c51ead997",
       "version_major": 2,
       "version_minor": 0
      },
      "text/plain": [
       "HBox(children=(FloatProgress(value=0.0, max=1.0), HTML(value='')))"
      ]
     },
     "metadata": {},
     "output_type": "display_data"
    },
    {
     "name": "stdout",
     "output_type": "stream",
     "text": [
      "\n",
      "{'distance': <function l2 at 0x000001D66A0DF670>, 'thresh': 0.04836067672642683, 'fact': 1} 0.9829545454545454\n",
      "({'distance': <function l2 at 0x000001D66A0DF670>, 'thresh': 0.04836067672642683, 'fact': 1}, 0.9829545454545454)\n"
     ]
    },
    {
     "data": {
      "application/vnd.jupyter.widget-view+json": {
       "model_id": "6e409d103a2543edbd99700a849682cf",
       "version_major": 2,
       "version_minor": 0
      },
      "text/plain": [
       "HBox(children=(FloatProgress(value=0.0, max=1.0), HTML(value='')))"
      ]
     },
     "metadata": {},
     "output_type": "display_data"
    },
    {
     "name": "stdout",
     "output_type": "stream",
     "text": [
      "\n",
      "{'distance': <function l2 at 0x000001D66A0DF670>, 'thresh': 0.04836067672642683, 'fact': 1} 0.9829545454545454\n",
      "({'distance': <function l2 at 0x000001D66A0DF670>, 'thresh': 0.04836067672642683, 'fact': 1}, 0.9829545454545454)\n"
     ]
    },
    {
     "data": {
      "application/vnd.jupyter.widget-view+json": {
       "model_id": "b88b54ed3fd9419785d539fc8f24ffa3",
       "version_major": 2,
       "version_minor": 0
      },
      "text/plain": [
       "HBox(children=(FloatProgress(value=0.0, max=1.0), HTML(value='')))"
      ]
     },
     "metadata": {},
     "output_type": "display_data"
    },
    {
     "name": "stdout",
     "output_type": "stream",
     "text": [
      "\n",
      "{'distance': <function l2 at 0x000001D66A0DF670>, 'thresh': 0.04836067672642683, 'fact': 1} 0.9928977272727273\n",
      "({'distance': <function l2 at 0x000001D66A0DF670>, 'thresh': 0.04836067672642683, 'fact': 1}, 0.9928977272727273)\n"
     ]
    },
    {
     "data": {
      "application/vnd.jupyter.widget-view+json": {
       "model_id": "4cc20d5aa53f4dd2aef1ea504095bf41",
       "version_major": 2,
       "version_minor": 0
      },
      "text/plain": [
       "HBox(children=(FloatProgress(value=0.0, max=1.0), HTML(value='')))"
      ]
     },
     "metadata": {},
     "output_type": "display_data"
    },
    {
     "name": "stdout",
     "output_type": "stream",
     "text": [
      "\n",
      "{'distance': <function l2 at 0x000001D66A0DF670>, 'thresh': 0.04836067672642683, 'fact': 1} 0.9786931818181818\n",
      "({'distance': <function l2 at 0x000001D66A0DF670>, 'thresh': 0.04836067672642683, 'fact': 1}, 0.9786931818181818)\n"
     ]
    },
    {
     "data": {
      "application/vnd.jupyter.widget-view+json": {
       "model_id": "3d455df394174fdc9832ecaaeb5c185b",
       "version_major": 2,
       "version_minor": 0
      },
      "text/plain": [
       "HBox(children=(FloatProgress(value=0.0, max=1.0), HTML(value='')))"
      ]
     },
     "metadata": {},
     "output_type": "display_data"
    },
    {
     "name": "stdout",
     "output_type": "stream",
     "text": [
      "\n",
      "{'distance': <function l2 at 0x000001D66A0DF670>, 'thresh': 0.04472691514162848, 'fact': 1} 0.9666666666666667\n",
      "({'distance': <function l2 at 0x000001D66A0DF670>, 'thresh': 0.04472691514162848, 'fact': 1}, 0.9666666666666667)\n"
     ]
    },
    {
     "data": {
      "application/vnd.jupyter.widget-view+json": {
       "model_id": "277a52c83186480b950f7626b932990b",
       "version_major": 2,
       "version_minor": 0
      },
      "text/plain": [
       "HBox(children=(FloatProgress(value=0.0, max=1.0), HTML(value='')))"
      ]
     },
     "metadata": {},
     "output_type": "display_data"
    },
    {
     "name": "stdout",
     "output_type": "stream",
     "text": [
      "\n",
      "{'distance': <function l2 at 0x000001D66A0DF670>, 'thresh': 0.04472691514162848, 'fact': 1} 0.9753623188405797\n",
      "({'distance': <function l2 at 0x000001D66A0DF670>, 'thresh': 0.04472691514162848, 'fact': 1}, 0.9753623188405797)\n"
     ]
    },
    {
     "data": {
      "application/vnd.jupyter.widget-view+json": {
       "model_id": "c22032583c2a4695af83f865d56266d4",
       "version_major": 2,
       "version_minor": 0
      },
      "text/plain": [
       "HBox(children=(FloatProgress(value=0.0, max=1.0), HTML(value='')))"
      ]
     },
     "metadata": {},
     "output_type": "display_data"
    },
    {
     "name": "stdout",
     "output_type": "stream",
     "text": [
      "\n",
      "{'distance': <function l2 at 0x000001D66A0DF670>, 'thresh': 0.04472691514162848, 'fact': 1} 0.9768115942028985\n",
      "({'distance': <function l2 at 0x000001D66A0DF670>, 'thresh': 0.04472691514162848, 'fact': 1}, 0.9768115942028985)\n"
     ]
    },
    {
     "data": {
      "application/vnd.jupyter.widget-view+json": {
       "model_id": "fbd4fbec6c9c4bf48c188deec4dcf410",
       "version_major": 2,
       "version_minor": 0
      },
      "text/plain": [
       "HBox(children=(FloatProgress(value=0.0, max=1.0), HTML(value='')))"
      ]
     },
     "metadata": {},
     "output_type": "display_data"
    },
    {
     "name": "stdout",
     "output_type": "stream",
     "text": [
      "\n",
      "{'distance': <function l2 at 0x000001D66A0DF670>, 'thresh': 0.04472691514162848, 'fact': 1} 0.9826086956521739\n",
      "({'distance': <function l2 at 0x000001D66A0DF670>, 'thresh': 0.04472691514162848, 'fact': 1}, 0.9826086956521739)\n"
     ]
    },
    {
     "data": {
      "application/vnd.jupyter.widget-view+json": {
       "model_id": "5aa3cd988b7e468ca1ea0b4b7d08bee2",
       "version_major": 2,
       "version_minor": 0
      },
      "text/plain": [
       "HBox(children=(FloatProgress(value=0.0, max=1.0), HTML(value='')))"
      ]
     },
     "metadata": {},
     "output_type": "display_data"
    },
    {
     "name": "stdout",
     "output_type": "stream",
     "text": [
      "\n",
      "{'distance': <function l2 at 0x000001D66A0DF670>, 'thresh': 0.04472691514162848, 'fact': 1} 0.9768115942028985\n",
      "({'distance': <function l2 at 0x000001D66A0DF670>, 'thresh': 0.04472691514162848, 'fact': 1}, 0.9768115942028985)\n"
     ]
    },
    {
     "data": {
      "application/vnd.jupyter.widget-view+json": {
       "model_id": "4044eadd70fa4682acccca0a52039858",
       "version_major": 2,
       "version_minor": 0
      },
      "text/plain": [
       "HBox(children=(FloatProgress(value=0.0, max=1.0), HTML(value='')))"
      ]
     },
     "metadata": {},
     "output_type": "display_data"
    },
    {
     "name": "stdout",
     "output_type": "stream",
     "text": [
      "\n",
      "{'distance': <function l2 at 0x000001D66A0DF670>, 'thresh': 0.04472691514162848, 'fact': 1} 0.9840579710144928\n",
      "({'distance': <function l2 at 0x000001D66A0DF670>, 'thresh': 0.04472691514162848, 'fact': 1}, 0.9840579710144928)\n"
     ]
    },
    {
     "data": {
      "application/vnd.jupyter.widget-view+json": {
       "model_id": "e4622a84b07648499d6aac60f61677ae",
       "version_major": 2,
       "version_minor": 0
      },
      "text/plain": [
       "HBox(children=(FloatProgress(value=0.0, max=1.0), HTML(value='')))"
      ]
     },
     "metadata": {},
     "output_type": "display_data"
    },
    {
     "name": "stdout",
     "output_type": "stream",
     "text": [
      "\n",
      "{'distance': <function l2 at 0x000001D66A0DF670>, 'thresh': 0.04472691514162848, 'fact': 1} 0.9536231884057971\n",
      "({'distance': <function l2 at 0x000001D66A0DF670>, 'thresh': 0.04472691514162848, 'fact': 1}, 0.9536231884057971)\n"
     ]
    },
    {
     "data": {
      "application/vnd.jupyter.widget-view+json": {
       "model_id": "796313d2a19945a4b693ed36472c8705",
       "version_major": 2,
       "version_minor": 0
      },
      "text/plain": [
       "HBox(children=(FloatProgress(value=0.0, max=1.0), HTML(value='')))"
      ]
     },
     "metadata": {},
     "output_type": "display_data"
    },
    {
     "name": "stdout",
     "output_type": "stream",
     "text": [
      "\n",
      "{'distance': <function l2 at 0x000001D66A0DF670>, 'thresh': 0.04472691514162848, 'fact': 1} 0.9710144927536232\n",
      "({'distance': <function l2 at 0x000001D66A0DF670>, 'thresh': 0.04472691514162848, 'fact': 1}, 0.9710144927536232)\n"
     ]
    },
    {
     "data": {
      "application/vnd.jupyter.widget-view+json": {
       "model_id": "e525a328c445437f9721460e69483363",
       "version_major": 2,
       "version_minor": 0
      },
      "text/plain": [
       "HBox(children=(FloatProgress(value=0.0, max=1.0), HTML(value='')))"
      ]
     },
     "metadata": {},
     "output_type": "display_data"
    },
    {
     "name": "stdout",
     "output_type": "stream",
     "text": [
      "\n",
      "{'distance': <function l2 at 0x000001D66A0DF670>, 'thresh': 0.04472691514162848, 'fact': 1} 0.9797101449275363\n",
      "({'distance': <function l2 at 0x000001D66A0DF670>, 'thresh': 0.04472691514162848, 'fact': 1}, 0.9797101449275363)\n"
     ]
    },
    {
     "data": {
      "application/vnd.jupyter.widget-view+json": {
       "model_id": "e030e19b379d403aa3f8990571fdf432",
       "version_major": 2,
       "version_minor": 0
      },
      "text/plain": [
       "HBox(children=(FloatProgress(value=0.0, max=1.0), HTML(value='')))"
      ]
     },
     "metadata": {},
     "output_type": "display_data"
    },
    {
     "name": "stdout",
     "output_type": "stream",
     "text": [
      "\n",
      "{'distance': <function l2 at 0x000001D66A0DF670>, 'thresh': 0.04472691514162848, 'fact': 1} 0.9695652173913043\n",
      "({'distance': <function l2 at 0x000001D66A0DF670>, 'thresh': 0.04472691514162848, 'fact': 1}, 0.9695652173913043)\n"
     ]
    },
    {
     "data": {
      "application/vnd.jupyter.widget-view+json": {
       "model_id": "0b0c845917734b8ab76db026f9ba94c0",
       "version_major": 2,
       "version_minor": 0
      },
      "text/plain": [
       "HBox(children=(FloatProgress(value=0.0, max=1.0), HTML(value='')))"
      ]
     },
     "metadata": {},
     "output_type": "display_data"
    },
    {
     "name": "stdout",
     "output_type": "stream",
     "text": [
      "\n",
      "{'distance': <function l2 at 0x000001D66A0DF670>, 'thresh': 0.04521181907968975, 'fact': 1} 0.9855699855699855\n",
      "({'distance': <function l2 at 0x000001D66A0DF670>, 'thresh': 0.04521181907968975, 'fact': 1}, 0.9855699855699855)\n"
     ]
    },
    {
     "data": {
      "application/vnd.jupyter.widget-view+json": {
       "model_id": "c086393aff2948018130c58886e69fd9",
       "version_major": 2,
       "version_minor": 0
      },
      "text/plain": [
       "HBox(children=(FloatProgress(value=0.0, max=1.0), HTML(value='')))"
      ]
     },
     "metadata": {},
     "output_type": "display_data"
    },
    {
     "name": "stdout",
     "output_type": "stream",
     "text": [
      "\n",
      "{'distance': <function l2 at 0x000001D66A0DF670>, 'thresh': 0.04521181907968975, 'fact': 1} 0.9927849927849928\n",
      "({'distance': <function l2 at 0x000001D66A0DF670>, 'thresh': 0.04521181907968975, 'fact': 1}, 0.9927849927849928)\n"
     ]
    },
    {
     "data": {
      "application/vnd.jupyter.widget-view+json": {
       "model_id": "3352d65fddc14cf8a09bd609e71ca50c",
       "version_major": 2,
       "version_minor": 0
      },
      "text/plain": [
       "HBox(children=(FloatProgress(value=0.0, max=1.0), HTML(value='')))"
      ]
     },
     "metadata": {},
     "output_type": "display_data"
    },
    {
     "name": "stdout",
     "output_type": "stream",
     "text": [
      "\n",
      "{'distance': <function l2 at 0x000001D66A0DF670>, 'thresh': 0.04521181907968975, 'fact': 1} 0.9913419913419913\n",
      "({'distance': <function l2 at 0x000001D66A0DF670>, 'thresh': 0.04521181907968975, 'fact': 1}, 0.9913419913419913)\n"
     ]
    },
    {
     "data": {
      "application/vnd.jupyter.widget-view+json": {
       "model_id": "ac837f9730444e55ae7ee3497dbc9d6f",
       "version_major": 2,
       "version_minor": 0
      },
      "text/plain": [
       "HBox(children=(FloatProgress(value=0.0, max=1.0), HTML(value='')))"
      ]
     },
     "metadata": {},
     "output_type": "display_data"
    },
    {
     "name": "stdout",
     "output_type": "stream",
     "text": [
      "\n",
      "{'distance': <function l2 at 0x000001D66A0DF670>, 'thresh': 0.04521181907968975, 'fact': 1} 0.9927849927849928\n",
      "({'distance': <function l2 at 0x000001D66A0DF670>, 'thresh': 0.04521181907968975, 'fact': 1}, 0.9927849927849928)\n"
     ]
    },
    {
     "data": {
      "application/vnd.jupyter.widget-view+json": {
       "model_id": "865e4f79beda41bfbba8cb41db20944d",
       "version_major": 2,
       "version_minor": 0
      },
      "text/plain": [
       "HBox(children=(FloatProgress(value=0.0, max=1.0), HTML(value='')))"
      ]
     },
     "metadata": {},
     "output_type": "display_data"
    },
    {
     "name": "stdout",
     "output_type": "stream",
     "text": [
      "\n",
      "{'distance': <function l2 at 0x000001D66A0DF670>, 'thresh': 0.04521181907968975, 'fact': 1} 0.9826839826839827\n",
      "({'distance': <function l2 at 0x000001D66A0DF670>, 'thresh': 0.04521181907968975, 'fact': 1}, 0.9826839826839827)\n"
     ]
    },
    {
     "data": {
      "application/vnd.jupyter.widget-view+json": {
       "model_id": "affec978aaae4292ad4b496bed1cca28",
       "version_major": 2,
       "version_minor": 0
      },
      "text/plain": [
       "HBox(children=(FloatProgress(value=0.0, max=1.0), HTML(value='')))"
      ]
     },
     "metadata": {},
     "output_type": "display_data"
    },
    {
     "name": "stdout",
     "output_type": "stream",
     "text": [
      "\n",
      "{'distance': <function l2 at 0x000001D66A0DF670>, 'thresh': 0.04521181907968975, 'fact': 1} 0.9927849927849928\n",
      "({'distance': <function l2 at 0x000001D66A0DF670>, 'thresh': 0.04521181907968975, 'fact': 1}, 0.9927849927849928)\n"
     ]
    },
    {
     "data": {
      "application/vnd.jupyter.widget-view+json": {
       "model_id": "935c782ea60345a59b146405d86eadfb",
       "version_major": 2,
       "version_minor": 0
      },
      "text/plain": [
       "HBox(children=(FloatProgress(value=0.0, max=1.0), HTML(value='')))"
      ]
     },
     "metadata": {},
     "output_type": "display_data"
    },
    {
     "name": "stdout",
     "output_type": "stream",
     "text": [
      "\n",
      "{'distance': <function l2 at 0x000001D66A0DF670>, 'thresh': 0.04521181907968975, 'fact': 1} 0.9841269841269841\n",
      "({'distance': <function l2 at 0x000001D66A0DF670>, 'thresh': 0.04521181907968975, 'fact': 1}, 0.9841269841269841)\n"
     ]
    },
    {
     "data": {
      "application/vnd.jupyter.widget-view+json": {
       "model_id": "32f15cd826f24b0ba19d6f0f32beb272",
       "version_major": 2,
       "version_minor": 0
      },
      "text/plain": [
       "HBox(children=(FloatProgress(value=0.0, max=1.0), HTML(value='')))"
      ]
     },
     "metadata": {},
     "output_type": "display_data"
    },
    {
     "name": "stdout",
     "output_type": "stream",
     "text": [
      "\n",
      "{'distance': <function l2 at 0x000001D66A0DF670>, 'thresh': 0.04521181907968975, 'fact': 1} 0.9826839826839827\n",
      "({'distance': <function l2 at 0x000001D66A0DF670>, 'thresh': 0.04521181907968975, 'fact': 1}, 0.9826839826839827)\n"
     ]
    },
    {
     "data": {
      "application/vnd.jupyter.widget-view+json": {
       "model_id": "164ca3e079e4486a81967589fe72a542",
       "version_major": 2,
       "version_minor": 0
      },
      "text/plain": [
       "HBox(children=(FloatProgress(value=0.0, max=1.0), HTML(value='')))"
      ]
     },
     "metadata": {},
     "output_type": "display_data"
    },
    {
     "name": "stdout",
     "output_type": "stream",
     "text": [
      "\n",
      "{'distance': <function l2 at 0x000001D66A0DF670>, 'thresh': 0.04521181907968975, 'fact': 1} 0.9826839826839827\n",
      "({'distance': <function l2 at 0x000001D66A0DF670>, 'thresh': 0.04521181907968975, 'fact': 1}, 0.9826839826839827)\n"
     ]
    },
    {
     "data": {
      "application/vnd.jupyter.widget-view+json": {
       "model_id": "5b2798d30d48466ab8adc9835ae78be2",
       "version_major": 2,
       "version_minor": 0
      },
      "text/plain": [
       "HBox(children=(FloatProgress(value=0.0, max=1.0), HTML(value='')))"
      ]
     },
     "metadata": {},
     "output_type": "display_data"
    },
    {
     "name": "stdout",
     "output_type": "stream",
     "text": [
      "\n",
      "{'distance': <function l2 at 0x000001D66A0DF670>, 'thresh': 0.04521181907968975, 'fact': 1} 0.987012987012987\n",
      "({'distance': <function l2 at 0x000001D66A0DF670>, 'thresh': 0.04521181907968975, 'fact': 1}, 0.987012987012987)\n"
     ]
    },
    {
     "data": {
      "application/vnd.jupyter.widget-view+json": {
       "model_id": "72643827a4654813a9b4dbc0762052ea",
       "version_major": 2,
       "version_minor": 0
      },
      "text/plain": [
       "HBox(children=(FloatProgress(value=0.0, max=1.0), HTML(value='')))"
      ]
     },
     "metadata": {},
     "output_type": "display_data"
    },
    {
     "name": "stdout",
     "output_type": "stream",
     "text": [
      "\n",
      "{'distance': <function l2 at 0x000001D66A0DF670>, 'thresh': 0.12212856936857293, 'fact': 2.2} 0.9829787234042553\n",
      "({'distance': <function l2 at 0x000001D66A0DF670>, 'thresh': 0.12212856936857293, 'fact': 2.2}, 0.9829787234042553)\n"
     ]
    },
    {
     "data": {
      "application/vnd.jupyter.widget-view+json": {
       "model_id": "b3ddbc7075e54bf0a94e54798281fabf",
       "version_major": 2,
       "version_minor": 0
      },
      "text/plain": [
       "HBox(children=(FloatProgress(value=0.0, max=1.0), HTML(value='')))"
      ]
     },
     "metadata": {},
     "output_type": "display_data"
    },
    {
     "name": "stdout",
     "output_type": "stream",
     "text": [
      "\n",
      "{'distance': <function l2 at 0x000001D66A0DF670>, 'thresh': 0.12212856936857293, 'fact': 2.2} 0.9815602836879432\n",
      "({'distance': <function l2 at 0x000001D66A0DF670>, 'thresh': 0.12212856936857293, 'fact': 2.2}, 0.9815602836879432)\n"
     ]
    },
    {
     "data": {
      "application/vnd.jupyter.widget-view+json": {
       "model_id": "efef88970427458192701ff5e20cf656",
       "version_major": 2,
       "version_minor": 0
      },
      "text/plain": [
       "HBox(children=(FloatProgress(value=0.0, max=1.0), HTML(value='')))"
      ]
     },
     "metadata": {},
     "output_type": "display_data"
    },
    {
     "name": "stdout",
     "output_type": "stream",
     "text": [
      "\n",
      "{'distance': <function l2 at 0x000001D66A0DF670>, 'thresh': 0.12212856936857293, 'fact': 2.2} 0.9815602836879432\n",
      "({'distance': <function l2 at 0x000001D66A0DF670>, 'thresh': 0.12212856936857293, 'fact': 2.2}, 0.9815602836879432)\n"
     ]
    },
    {
     "data": {
      "application/vnd.jupyter.widget-view+json": {
       "model_id": "4a8bbd79d1fa4e6dae19719d7c5cee45",
       "version_major": 2,
       "version_minor": 0
      },
      "text/plain": [
       "HBox(children=(FloatProgress(value=0.0, max=1.0), HTML(value='')))"
      ]
     },
     "metadata": {},
     "output_type": "display_data"
    },
    {
     "name": "stdout",
     "output_type": "stream",
     "text": [
      "\n",
      "{'distance': <function l2 at 0x000001D66A0DF670>, 'thresh': 0.12212856936857293, 'fact': 2.2} 0.9773049645390071\n",
      "({'distance': <function l2 at 0x000001D66A0DF670>, 'thresh': 0.12212856936857293, 'fact': 2.2}, 0.9773049645390071)\n"
     ]
    },
    {
     "data": {
      "application/vnd.jupyter.widget-view+json": {
       "model_id": "dd47466ade23485eac9e8a24baffdd10",
       "version_major": 2,
       "version_minor": 0
      },
      "text/plain": [
       "HBox(children=(FloatProgress(value=0.0, max=1.0), HTML(value='')))"
      ]
     },
     "metadata": {},
     "output_type": "display_data"
    },
    {
     "name": "stdout",
     "output_type": "stream",
     "text": [
      "\n",
      "{'distance': <function l2 at 0x000001D66A0DF670>, 'thresh': 0.12212856936857293, 'fact': 2.2} 0.9858156028368794\n",
      "({'distance': <function l2 at 0x000001D66A0DF670>, 'thresh': 0.12212856936857293, 'fact': 2.2}, 0.9858156028368794)\n"
     ]
    },
    {
     "data": {
      "application/vnd.jupyter.widget-view+json": {
       "model_id": "e01054568dec4bc987ded58bd54e398d",
       "version_major": 2,
       "version_minor": 0
      },
      "text/plain": [
       "HBox(children=(FloatProgress(value=0.0, max=1.0), HTML(value='')))"
      ]
     },
     "metadata": {},
     "output_type": "display_data"
    },
    {
     "name": "stdout",
     "output_type": "stream",
     "text": [
      "\n",
      "{'distance': <function l2 at 0x000001D66A0DF670>, 'thresh': 0.12212856936857293, 'fact': 2.2} 0.9787234042553191\n",
      "({'distance': <function l2 at 0x000001D66A0DF670>, 'thresh': 0.12212856936857293, 'fact': 2.2}, 0.9787234042553191)\n"
     ]
    },
    {
     "data": {
      "application/vnd.jupyter.widget-view+json": {
       "model_id": "c336c1f64c5145f7a77528da29717394",
       "version_major": 2,
       "version_minor": 0
      },
      "text/plain": [
       "HBox(children=(FloatProgress(value=0.0, max=1.0), HTML(value='')))"
      ]
     },
     "metadata": {},
     "output_type": "display_data"
    },
    {
     "name": "stdout",
     "output_type": "stream",
     "text": [
      "\n",
      "{'distance': <function l2 at 0x000001D66A0DF670>, 'thresh': 0.12212856936857293, 'fact': 2.2} 0.9829787234042553\n",
      "({'distance': <function l2 at 0x000001D66A0DF670>, 'thresh': 0.12212856936857293, 'fact': 2.2}, 0.9829787234042553)\n"
     ]
    },
    {
     "data": {
      "application/vnd.jupyter.widget-view+json": {
       "model_id": "3af8aa9981314581a57ed17b7fe59f74",
       "version_major": 2,
       "version_minor": 0
      },
      "text/plain": [
       "HBox(children=(FloatProgress(value=0.0, max=1.0), HTML(value='')))"
      ]
     },
     "metadata": {},
     "output_type": "display_data"
    },
    {
     "name": "stdout",
     "output_type": "stream",
     "text": [
      "\n",
      "{'distance': <function l2 at 0x000001D66A0DF670>, 'thresh': 0.12212856936857293, 'fact': 2.2} 0.9872340425531915\n",
      "({'distance': <function l2 at 0x000001D66A0DF670>, 'thresh': 0.12212856936857293, 'fact': 2.2}, 0.9872340425531915)\n"
     ]
    },
    {
     "data": {
      "application/vnd.jupyter.widget-view+json": {
       "model_id": "a2c3f749fed4411bb5d24d188a9bc580",
       "version_major": 2,
       "version_minor": 0
      },
      "text/plain": [
       "HBox(children=(FloatProgress(value=0.0, max=1.0), HTML(value='')))"
      ]
     },
     "metadata": {},
     "output_type": "display_data"
    },
    {
     "name": "stdout",
     "output_type": "stream",
     "text": [
      "\n",
      "{'distance': <function l2 at 0x000001D66A0DF670>, 'thresh': 0.12212856936857293, 'fact': 2.2} 0.9829787234042553\n",
      "({'distance': <function l2 at 0x000001D66A0DF670>, 'thresh': 0.12212856936857293, 'fact': 2.2}, 0.9829787234042553)\n"
     ]
    },
    {
     "data": {
      "application/vnd.jupyter.widget-view+json": {
       "model_id": "245650433aab4615b5ebf8aa1a38bbfa",
       "version_major": 2,
       "version_minor": 0
      },
      "text/plain": [
       "HBox(children=(FloatProgress(value=0.0, max=1.0), HTML(value='')))"
      ]
     },
     "metadata": {},
     "output_type": "display_data"
    },
    {
     "name": "stdout",
     "output_type": "stream",
     "text": [
      "\n",
      "{'distance': <function l2 at 0x000001D66A0DF670>, 'thresh': 0.12212856936857293, 'fact': 2.2} 0.9829787234042553\n",
      "({'distance': <function l2 at 0x000001D66A0DF670>, 'thresh': 0.12212856936857293, 'fact': 2.2}, 0.9829787234042553)\n"
     ]
    },
    {
     "data": {
      "application/vnd.jupyter.widget-view+json": {
       "model_id": "1d4d0d0b033243a7872424789042d777",
       "version_major": 2,
       "version_minor": 0
      },
      "text/plain": [
       "HBox(children=(FloatProgress(value=0.0, max=1.0), HTML(value='')))"
      ]
     },
     "metadata": {},
     "output_type": "display_data"
    },
    {
     "name": "stdout",
     "output_type": "stream",
     "text": [
      "\n",
      "{'distance': <function l2 at 0x000001D66A0DF670>, 'thresh': 0.10639340062293348, 'fact': 2.2} 0.9872159090909091\n",
      "({'distance': <function l2 at 0x000001D66A0DF670>, 'thresh': 0.10639340062293348, 'fact': 2.2}, 0.9872159090909091)\n"
     ]
    },
    {
     "data": {
      "application/vnd.jupyter.widget-view+json": {
       "model_id": "d97255ef7249450da28fd93236547591",
       "version_major": 2,
       "version_minor": 0
      },
      "text/plain": [
       "HBox(children=(FloatProgress(value=0.0, max=1.0), HTML(value='')))"
      ]
     },
     "metadata": {},
     "output_type": "display_data"
    },
    {
     "name": "stdout",
     "output_type": "stream",
     "text": [
      "\n",
      "{'distance': <function l2 at 0x000001D66A0DF670>, 'thresh': 0.10639340062293348, 'fact': 2.2} 0.984375\n",
      "({'distance': <function l2 at 0x000001D66A0DF670>, 'thresh': 0.10639340062293348, 'fact': 2.2}, 0.984375)\n"
     ]
    },
    {
     "data": {
      "application/vnd.jupyter.widget-view+json": {
       "model_id": "94cefa330e6845c89c89a43b764d6ac8",
       "version_major": 2,
       "version_minor": 0
      },
      "text/plain": [
       "HBox(children=(FloatProgress(value=0.0, max=1.0), HTML(value='')))"
      ]
     },
     "metadata": {},
     "output_type": "display_data"
    },
    {
     "name": "stdout",
     "output_type": "stream",
     "text": [
      "\n",
      "{'distance': <function l2 at 0x000001D66A0DF670>, 'thresh': 0.10639340062293348, 'fact': 2.2} 0.9857954545454546\n",
      "({'distance': <function l2 at 0x000001D66A0DF670>, 'thresh': 0.10639340062293348, 'fact': 2.2}, 0.9857954545454546)\n"
     ]
    },
    {
     "data": {
      "application/vnd.jupyter.widget-view+json": {
       "model_id": "b9130582bae24a20bfdf60e2f0f0456e",
       "version_major": 2,
       "version_minor": 0
      },
      "text/plain": [
       "HBox(children=(FloatProgress(value=0.0, max=1.0), HTML(value='')))"
      ]
     },
     "metadata": {},
     "output_type": "display_data"
    },
    {
     "name": "stdout",
     "output_type": "stream",
     "text": [
      "\n",
      "{'distance': <function l2 at 0x000001D66A0DF670>, 'thresh': 0.10639340062293348, 'fact': 2.2} 0.9857954545454546\n",
      "({'distance': <function l2 at 0x000001D66A0DF670>, 'thresh': 0.10639340062293348, 'fact': 2.2}, 0.9857954545454546)\n"
     ]
    },
    {
     "data": {
      "application/vnd.jupyter.widget-view+json": {
       "model_id": "14c15eeb3e8d43329b5484105331914b",
       "version_major": 2,
       "version_minor": 0
      },
      "text/plain": [
       "HBox(children=(FloatProgress(value=0.0, max=1.0), HTML(value='')))"
      ]
     },
     "metadata": {},
     "output_type": "display_data"
    },
    {
     "name": "stdout",
     "output_type": "stream",
     "text": [
      "\n",
      "{'distance': <function l2 at 0x000001D66A0DF670>, 'thresh': 0.10639340062293348, 'fact': 2.2} 0.9900568181818182\n",
      "({'distance': <function l2 at 0x000001D66A0DF670>, 'thresh': 0.10639340062293348, 'fact': 2.2}, 0.9900568181818182)\n"
     ]
    },
    {
     "data": {
      "application/vnd.jupyter.widget-view+json": {
       "model_id": "f0870ef50dcc4f2b9d56976f3bb1e0b0",
       "version_major": 2,
       "version_minor": 0
      },
      "text/plain": [
       "HBox(children=(FloatProgress(value=0.0, max=1.0), HTML(value='')))"
      ]
     },
     "metadata": {},
     "output_type": "display_data"
    },
    {
     "name": "stdout",
     "output_type": "stream",
     "text": [
      "\n",
      "{'distance': <function l2 at 0x000001D66A0DF670>, 'thresh': 0.10639340062293348, 'fact': 2.2} 0.9857954545454546\n",
      "({'distance': <function l2 at 0x000001D66A0DF670>, 'thresh': 0.10639340062293348, 'fact': 2.2}, 0.9857954545454546)\n"
     ]
    },
    {
     "data": {
      "application/vnd.jupyter.widget-view+json": {
       "model_id": "df7d2576e4f14ffab78b7532951ccabc",
       "version_major": 2,
       "version_minor": 0
      },
      "text/plain": [
       "HBox(children=(FloatProgress(value=0.0, max=1.0), HTML(value='')))"
      ]
     },
     "metadata": {},
     "output_type": "display_data"
    },
    {
     "name": "stdout",
     "output_type": "stream",
     "text": [
      "\n",
      "{'distance': <function l2 at 0x000001D66A0DF670>, 'thresh': 0.10639340062293348, 'fact': 2.2} 0.9872159090909091\n",
      "({'distance': <function l2 at 0x000001D66A0DF670>, 'thresh': 0.10639340062293348, 'fact': 2.2}, 0.9872159090909091)\n"
     ]
    },
    {
     "data": {
      "application/vnd.jupyter.widget-view+json": {
       "model_id": "c541c95ab4fc4bc3894a5cfa4e0cec48",
       "version_major": 2,
       "version_minor": 0
      },
      "text/plain": [
       "HBox(children=(FloatProgress(value=0.0, max=1.0), HTML(value='')))"
      ]
     },
     "metadata": {},
     "output_type": "display_data"
    },
    {
     "name": "stdout",
     "output_type": "stream",
     "text": [
      "\n",
      "{'distance': <function l2 at 0x000001D66A0DF670>, 'thresh': 0.10639340062293348, 'fact': 2.2} 0.9815340909090909\n",
      "({'distance': <function l2 at 0x000001D66A0DF670>, 'thresh': 0.10639340062293348, 'fact': 2.2}, 0.9815340909090909)\n"
     ]
    },
    {
     "data": {
      "application/vnd.jupyter.widget-view+json": {
       "model_id": "ed65123d674f4f84b3df69926bf67aa2",
       "version_major": 2,
       "version_minor": 0
      },
      "text/plain": [
       "HBox(children=(FloatProgress(value=0.0, max=1.0), HTML(value='')))"
      ]
     },
     "metadata": {},
     "output_type": "display_data"
    },
    {
     "name": "stdout",
     "output_type": "stream",
     "text": [
      "\n",
      "{'distance': <function l2 at 0x000001D66A0DF670>, 'thresh': 0.10639340062293348, 'fact': 2.2} 0.9914772727272727\n",
      "({'distance': <function l2 at 0x000001D66A0DF670>, 'thresh': 0.10639340062293348, 'fact': 2.2}, 0.9914772727272727)\n"
     ]
    },
    {
     "data": {
      "application/vnd.jupyter.widget-view+json": {
       "model_id": "e08b60e75a434408851dbf0e75c7a19a",
       "version_major": 2,
       "version_minor": 0
      },
      "text/plain": [
       "HBox(children=(FloatProgress(value=0.0, max=1.0), HTML(value='')))"
      ]
     },
     "metadata": {},
     "output_type": "display_data"
    },
    {
     "name": "stdout",
     "output_type": "stream",
     "text": [
      "\n",
      "{'distance': <function l2 at 0x000001D66A0DF670>, 'thresh': 0.10639340062293348, 'fact': 2.2} 0.9857954545454546\n",
      "({'distance': <function l2 at 0x000001D66A0DF670>, 'thresh': 0.10639340062293348, 'fact': 2.2}, 0.9857954545454546)\n"
     ]
    },
    {
     "data": {
      "application/vnd.jupyter.widget-view+json": {
       "model_id": "1004aacdf17b4181b7ff609e290c5d89",
       "version_major": 2,
       "version_minor": 0
      },
      "text/plain": [
       "HBox(children=(FloatProgress(value=0.0, max=1.0), HTML(value='')))"
      ]
     },
     "metadata": {},
     "output_type": "display_data"
    },
    {
     "name": "stdout",
     "output_type": "stream",
     "text": [
      "\n",
      "{'distance': <function l2 at 0x000001D66A0DF670>, 'thresh': 0.0983991976200108, 'fact': 2.2} 0.9652173913043478\n",
      "({'distance': <function l2 at 0x000001D66A0DF670>, 'thresh': 0.0983991976200108, 'fact': 2.2}, 0.9652173913043478)\n"
     ]
    },
    {
     "data": {
      "application/vnd.jupyter.widget-view+json": {
       "model_id": "20b4faa6836845e6878435b0d61ad3da",
       "version_major": 2,
       "version_minor": 0
      },
      "text/plain": [
       "HBox(children=(FloatProgress(value=0.0, max=1.0), HTML(value='')))"
      ]
     },
     "metadata": {},
     "output_type": "display_data"
    },
    {
     "name": "stdout",
     "output_type": "stream",
     "text": [
      "\n",
      "{'distance': <function l2 at 0x000001D66A0DF670>, 'thresh': 0.0983991976200108, 'fact': 2.2} 0.972463768115942\n",
      "({'distance': <function l2 at 0x000001D66A0DF670>, 'thresh': 0.0983991976200108, 'fact': 2.2}, 0.972463768115942)\n"
     ]
    },
    {
     "data": {
      "application/vnd.jupyter.widget-view+json": {
       "model_id": "633301960ffa4c338452435798ed5da4",
       "version_major": 2,
       "version_minor": 0
      },
      "text/plain": [
       "HBox(children=(FloatProgress(value=0.0, max=1.0), HTML(value='')))"
      ]
     },
     "metadata": {},
     "output_type": "display_data"
    },
    {
     "name": "stdout",
     "output_type": "stream",
     "text": [
      "\n",
      "{'distance': <function l2 at 0x000001D66A0DF670>, 'thresh': 0.0983991976200108, 'fact': 2.2} 0.9782608695652174\n",
      "({'distance': <function l2 at 0x000001D66A0DF670>, 'thresh': 0.0983991976200108, 'fact': 2.2}, 0.9782608695652174)\n"
     ]
    },
    {
     "data": {
      "application/vnd.jupyter.widget-view+json": {
       "model_id": "568216155e974a148dfbf1e2964503d3",
       "version_major": 2,
       "version_minor": 0
      },
      "text/plain": [
       "HBox(children=(FloatProgress(value=0.0, max=1.0), HTML(value='')))"
      ]
     },
     "metadata": {},
     "output_type": "display_data"
    },
    {
     "name": "stdout",
     "output_type": "stream",
     "text": [
      "\n",
      "{'distance': <function l2 at 0x000001D66A0DF670>, 'thresh': 0.0983991976200108, 'fact': 2.2} 0.9623188405797102\n",
      "({'distance': <function l2 at 0x000001D66A0DF670>, 'thresh': 0.0983991976200108, 'fact': 2.2}, 0.9623188405797102)\n"
     ]
    },
    {
     "data": {
      "application/vnd.jupyter.widget-view+json": {
       "model_id": "5f7eb9e260c342b8ad28a860d1606e81",
       "version_major": 2,
       "version_minor": 0
      },
      "text/plain": [
       "HBox(children=(FloatProgress(value=0.0, max=1.0), HTML(value='')))"
      ]
     },
     "metadata": {},
     "output_type": "display_data"
    },
    {
     "name": "stdout",
     "output_type": "stream",
     "text": [
      "\n",
      "{'distance': <function l2 at 0x000001D66A0DF670>, 'thresh': 0.0983991976200108, 'fact': 2.2} 0.9652173913043478\n",
      "({'distance': <function l2 at 0x000001D66A0DF670>, 'thresh': 0.0983991976200108, 'fact': 2.2}, 0.9652173913043478)\n"
     ]
    },
    {
     "data": {
      "application/vnd.jupyter.widget-view+json": {
       "model_id": "5b5b14e13d3c45b6a2000c4c1e317ec8",
       "version_major": 2,
       "version_minor": 0
      },
      "text/plain": [
       "HBox(children=(FloatProgress(value=0.0, max=1.0), HTML(value='')))"
      ]
     },
     "metadata": {},
     "output_type": "display_data"
    },
    {
     "name": "stdout",
     "output_type": "stream",
     "text": [
      "\n",
      "{'distance': <function l2 at 0x000001D66A0DF670>, 'thresh': 0.0983991976200108, 'fact': 2.2} 0.9826086956521739\n",
      "({'distance': <function l2 at 0x000001D66A0DF670>, 'thresh': 0.0983991976200108, 'fact': 2.2}, 0.9826086956521739)\n"
     ]
    },
    {
     "data": {
      "application/vnd.jupyter.widget-view+json": {
       "model_id": "f44184882fa340f2852086e9eb9d3813",
       "version_major": 2,
       "version_minor": 0
      },
      "text/plain": [
       "HBox(children=(FloatProgress(value=0.0, max=1.0), HTML(value='')))"
      ]
     },
     "metadata": {},
     "output_type": "display_data"
    },
    {
     "name": "stdout",
     "output_type": "stream",
     "text": [
      "\n",
      "{'distance': <function l2 at 0x000001D66A0DF670>, 'thresh': 0.0983991976200108, 'fact': 2.2} 0.9739130434782609\n",
      "({'distance': <function l2 at 0x000001D66A0DF670>, 'thresh': 0.0983991976200108, 'fact': 2.2}, 0.9739130434782609)\n"
     ]
    },
    {
     "data": {
      "application/vnd.jupyter.widget-view+json": {
       "model_id": "e420b47aaf4341ff9a0c4a6cacffa995",
       "version_major": 2,
       "version_minor": 0
      },
      "text/plain": [
       "HBox(children=(FloatProgress(value=0.0, max=1.0), HTML(value='')))"
      ]
     },
     "metadata": {},
     "output_type": "display_data"
    },
    {
     "name": "stdout",
     "output_type": "stream",
     "text": [
      "\n",
      "{'distance': <function l2 at 0x000001D66A0DF670>, 'thresh': 0.0983991976200108, 'fact': 2.2} 0.6594202898550725\n",
      "({'distance': <function l2 at 0x000001D66A0DF670>, 'thresh': 0.0983991976200108, 'fact': 2.2}, 0.6594202898550725)\n"
     ]
    },
    {
     "data": {
      "application/vnd.jupyter.widget-view+json": {
       "model_id": "dc7dde60a2f44becae2ac4b79b4d257b",
       "version_major": 2,
       "version_minor": 0
      },
      "text/plain": [
       "HBox(children=(FloatProgress(value=0.0, max=1.0), HTML(value='')))"
      ]
     },
     "metadata": {},
     "output_type": "display_data"
    },
    {
     "name": "stdout",
     "output_type": "stream",
     "text": [
      "\n",
      "{'distance': <function l2 at 0x000001D66A0DF670>, 'thresh': 0.0983991976200108, 'fact': 2.2} 0.9072463768115943\n",
      "({'distance': <function l2 at 0x000001D66A0DF670>, 'thresh': 0.0983991976200108, 'fact': 2.2}, 0.9072463768115943)\n"
     ]
    },
    {
     "data": {
      "application/vnd.jupyter.widget-view+json": {
       "model_id": "92a09d721e7e42db8a796babde410e52",
       "version_major": 2,
       "version_minor": 0
      },
      "text/plain": [
       "HBox(children=(FloatProgress(value=0.0, max=1.0), HTML(value='')))"
      ]
     },
     "metadata": {},
     "output_type": "display_data"
    },
    {
     "name": "stdout",
     "output_type": "stream",
     "text": [
      "\n",
      "{'distance': <function l2 at 0x000001D66A0DF670>, 'thresh': 0.0983991976200108, 'fact': 2.2} 0.6623188405797101\n",
      "({'distance': <function l2 at 0x000001D66A0DF670>, 'thresh': 0.0983991976200108, 'fact': 2.2}, 0.6623188405797101)\n"
     ]
    },
    {
     "data": {
      "application/vnd.jupyter.widget-view+json": {
       "model_id": "7b412b8b244443a0a70a98d1566ce2d2",
       "version_major": 2,
       "version_minor": 0
      },
      "text/plain": [
       "HBox(children=(FloatProgress(value=0.0, max=1.0), HTML(value='')))"
      ]
     },
     "metadata": {},
     "output_type": "display_data"
    },
    {
     "name": "stdout",
     "output_type": "stream",
     "text": [
      "\n",
      "{'distance': <function l2 at 0x000001D66A0DF670>, 'thresh': 0.09946598563129723, 'fact': 2.2} 0.9841269841269841\n",
      "({'distance': <function l2 at 0x000001D66A0DF670>, 'thresh': 0.09946598563129723, 'fact': 2.2}, 0.9841269841269841)\n"
     ]
    },
    {
     "data": {
      "application/vnd.jupyter.widget-view+json": {
       "model_id": "7ed15b5d7134459797442d54f6570616",
       "version_major": 2,
       "version_minor": 0
      },
      "text/plain": [
       "HBox(children=(FloatProgress(value=0.0, max=1.0), HTML(value='')))"
      ]
     },
     "metadata": {},
     "output_type": "display_data"
    },
    {
     "name": "stdout",
     "output_type": "stream",
     "text": [
      "\n",
      "{'distance': <function l2 at 0x000001D66A0DF670>, 'thresh': 0.09946598563129723, 'fact': 2.2} 0.9855699855699855\n",
      "({'distance': <function l2 at 0x000001D66A0DF670>, 'thresh': 0.09946598563129723, 'fact': 2.2}, 0.9855699855699855)\n"
     ]
    },
    {
     "data": {
      "application/vnd.jupyter.widget-view+json": {
       "model_id": "c4961a5b2c604680ab7eba9cf91526d4",
       "version_major": 2,
       "version_minor": 0
      },
      "text/plain": [
       "HBox(children=(FloatProgress(value=0.0, max=1.0), HTML(value='')))"
      ]
     },
     "metadata": {},
     "output_type": "display_data"
    },
    {
     "name": "stdout",
     "output_type": "stream",
     "text": [
      "\n",
      "{'distance': <function l2 at 0x000001D66A0DF670>, 'thresh': 0.09946598563129723, 'fact': 2.2} 0.9855699855699855\n",
      "({'distance': <function l2 at 0x000001D66A0DF670>, 'thresh': 0.09946598563129723, 'fact': 2.2}, 0.9855699855699855)\n"
     ]
    },
    {
     "data": {
      "application/vnd.jupyter.widget-view+json": {
       "model_id": "2ca81b606bb24393a7410584939516ca",
       "version_major": 2,
       "version_minor": 0
      },
      "text/plain": [
       "HBox(children=(FloatProgress(value=0.0, max=1.0), HTML(value='')))"
      ]
     },
     "metadata": {},
     "output_type": "display_data"
    },
    {
     "name": "stdout",
     "output_type": "stream",
     "text": [
      "\n",
      "{'distance': <function l2 at 0x000001D66A0DF670>, 'thresh': 0.09946598563129723, 'fact': 2.2} 0.98989898989899\n",
      "({'distance': <function l2 at 0x000001D66A0DF670>, 'thresh': 0.09946598563129723, 'fact': 2.2}, 0.98989898989899)\n"
     ]
    },
    {
     "data": {
      "application/vnd.jupyter.widget-view+json": {
       "model_id": "f0487d440395411c8f0777fab5028684",
       "version_major": 2,
       "version_minor": 0
      },
      "text/plain": [
       "HBox(children=(FloatProgress(value=0.0, max=1.0), HTML(value='')))"
      ]
     },
     "metadata": {},
     "output_type": "display_data"
    },
    {
     "name": "stdout",
     "output_type": "stream",
     "text": [
      "\n",
      "{'distance': <function l2 at 0x000001D66A0DF670>, 'thresh': 0.09946598563129723, 'fact': 2.2} 0.98989898989899\n",
      "({'distance': <function l2 at 0x000001D66A0DF670>, 'thresh': 0.09946598563129723, 'fact': 2.2}, 0.98989898989899)\n"
     ]
    },
    {
     "data": {
      "application/vnd.jupyter.widget-view+json": {
       "model_id": "ae169298a9ed45818aea9057399b0b17",
       "version_major": 2,
       "version_minor": 0
      },
      "text/plain": [
       "HBox(children=(FloatProgress(value=0.0, max=1.0), HTML(value='')))"
      ]
     },
     "metadata": {},
     "output_type": "display_data"
    },
    {
     "name": "stdout",
     "output_type": "stream",
     "text": [
      "\n",
      "{'distance': <function l2 at 0x000001D66A0DF670>, 'thresh': 0.09946598563129723, 'fact': 2.2} 0.9927849927849928\n",
      "({'distance': <function l2 at 0x000001D66A0DF670>, 'thresh': 0.09946598563129723, 'fact': 2.2}, 0.9927849927849928)\n"
     ]
    },
    {
     "data": {
      "application/vnd.jupyter.widget-view+json": {
       "model_id": "a8f24b98982f476b94ef063f9ab37189",
       "version_major": 2,
       "version_minor": 0
      },
      "text/plain": [
       "HBox(children=(FloatProgress(value=0.0, max=1.0), HTML(value='')))"
      ]
     },
     "metadata": {},
     "output_type": "display_data"
    },
    {
     "name": "stdout",
     "output_type": "stream",
     "text": [
      "\n",
      "{'distance': <function l2 at 0x000001D66A0DF670>, 'thresh': 0.09946598563129723, 'fact': 2.2} 0.911976911976912\n",
      "({'distance': <function l2 at 0x000001D66A0DF670>, 'thresh': 0.09946598563129723, 'fact': 2.2}, 0.911976911976912)\n"
     ]
    },
    {
     "data": {
      "application/vnd.jupyter.widget-view+json": {
       "model_id": "e72eb8e4ef694e44a2d11e4cf6d08bd9",
       "version_major": 2,
       "version_minor": 0
      },
      "text/plain": [
       "HBox(children=(FloatProgress(value=0.0, max=1.0), HTML(value='')))"
      ]
     },
     "metadata": {},
     "output_type": "display_data"
    },
    {
     "name": "stdout",
     "output_type": "stream",
     "text": [
      "\n",
      "{'distance': <function l2 at 0x000001D66A0DF670>, 'thresh': 0.09946598563129723, 'fact': 2.2} 0.98989898989899\n",
      "({'distance': <function l2 at 0x000001D66A0DF670>, 'thresh': 0.09946598563129723, 'fact': 2.2}, 0.98989898989899)\n"
     ]
    },
    {
     "data": {
      "application/vnd.jupyter.widget-view+json": {
       "model_id": "3bff5ebe9ff142c082da6e879b9afd38",
       "version_major": 2,
       "version_minor": 0
      },
      "text/plain": [
       "HBox(children=(FloatProgress(value=0.0, max=1.0), HTML(value='')))"
      ]
     },
     "metadata": {},
     "output_type": "display_data"
    },
    {
     "name": "stdout",
     "output_type": "stream",
     "text": [
      "\n",
      "{'distance': <function l2 at 0x000001D66A0DF670>, 'thresh': 0.09946598563129723, 'fact': 2.2} 0.9971139971139971\n",
      "({'distance': <function l2 at 0x000001D66A0DF670>, 'thresh': 0.09946598563129723, 'fact': 2.2}, 0.9971139971139971)\n"
     ]
    },
    {
     "data": {
      "application/vnd.jupyter.widget-view+json": {
       "model_id": "535c0316994f4cb2b765bdd57fd4316b",
       "version_major": 2,
       "version_minor": 0
      },
      "text/plain": [
       "HBox(children=(FloatProgress(value=0.0, max=1.0), HTML(value='')))"
      ]
     },
     "metadata": {},
     "output_type": "display_data"
    },
    {
     "name": "stdout",
     "output_type": "stream",
     "text": [
      "\n",
      "{'distance': <function l2 at 0x000001D66A0DF670>, 'thresh': 0.09946598563129723, 'fact': 2.2} 0.987012987012987\n",
      "({'distance': <function l2 at 0x000001D66A0DF670>, 'thresh': 0.09946598563129723, 'fact': 2.2}, 0.987012987012987)\n"
     ]
    },
    {
     "data": {
      "application/vnd.jupyter.widget-view+json": {
       "model_id": "c121be9b792341f2940e314c6d9dd896",
       "version_major": 2,
       "version_minor": 0
      },
      "text/plain": [
       "HBox(children=(FloatProgress(value=0.0, max=1.0), HTML(value='')))"
      ]
     },
     "metadata": {},
     "output_type": "display_data"
    },
    {
     "name": "stdout",
     "output_type": "stream",
     "text": [
      "\n",
      "{'distance': <function l2 at 0x000001D66A0DF670>, 'thresh': 0.1387821624366412, 'fact': 2.5} 0.9120567375886525\n",
      "({'distance': <function l2 at 0x000001D66A0DF670>, 'thresh': 0.1387821624366412, 'fact': 2.5}, 0.9120567375886525)\n"
     ]
    },
    {
     "data": {
      "application/vnd.jupyter.widget-view+json": {
       "model_id": "c60282d65236459e94dfbd64202cf9b1",
       "version_major": 2,
       "version_minor": 0
      },
      "text/plain": [
       "HBox(children=(FloatProgress(value=0.0, max=1.0), HTML(value='')))"
      ]
     },
     "metadata": {},
     "output_type": "display_data"
    },
    {
     "name": "stdout",
     "output_type": "stream",
     "text": [
      "\n",
      "{'distance': <function l2 at 0x000001D66A0DF670>, 'thresh': 0.1387821624366412, 'fact': 2.5} 0.9773049645390071\n",
      "({'distance': <function l2 at 0x000001D66A0DF670>, 'thresh': 0.1387821624366412, 'fact': 2.5}, 0.9773049645390071)\n"
     ]
    },
    {
     "data": {
      "application/vnd.jupyter.widget-view+json": {
       "model_id": "212af9fca897440483f08de7d0bd2608",
       "version_major": 2,
       "version_minor": 0
      },
      "text/plain": [
       "HBox(children=(FloatProgress(value=0.0, max=1.0), HTML(value='')))"
      ]
     },
     "metadata": {},
     "output_type": "display_data"
    },
    {
     "name": "stdout",
     "output_type": "stream",
     "text": [
      "\n",
      "{'distance': <function l2 at 0x000001D66A0DF670>, 'thresh': 0.1387821624366412, 'fact': 2.5} 0.8141843971631205\n",
      "({'distance': <function l2 at 0x000001D66A0DF670>, 'thresh': 0.1387821624366412, 'fact': 2.5}, 0.8141843971631205)\n"
     ]
    },
    {
     "data": {
      "application/vnd.jupyter.widget-view+json": {
       "model_id": "94a662b5c6b44c569e9b459fa69da916",
       "version_major": 2,
       "version_minor": 0
      },
      "text/plain": [
       "HBox(children=(FloatProgress(value=0.0, max=1.0), HTML(value='')))"
      ]
     },
     "metadata": {},
     "output_type": "display_data"
    },
    {
     "name": "stdout",
     "output_type": "stream",
     "text": [
      "\n",
      "{'distance': <function l2 at 0x000001D66A0DF670>, 'thresh': 0.1387821624366412, 'fact': 2.5} 0.8893617021276595\n",
      "({'distance': <function l2 at 0x000001D66A0DF670>, 'thresh': 0.1387821624366412, 'fact': 2.5}, 0.8893617021276595)\n"
     ]
    },
    {
     "data": {
      "application/vnd.jupyter.widget-view+json": {
       "model_id": "0f5aebbca79243589eda7b7f8df124ea",
       "version_major": 2,
       "version_minor": 0
      },
      "text/plain": [
       "HBox(children=(FloatProgress(value=0.0, max=1.0), HTML(value='')))"
      ]
     },
     "metadata": {},
     "output_type": "display_data"
    },
    {
     "name": "stdout",
     "output_type": "stream",
     "text": [
      "\n",
      "{'distance': <function l2 at 0x000001D66A0DF670>, 'thresh': 0.1387821624366412, 'fact': 2.5} 0.8780141843971632\n",
      "({'distance': <function l2 at 0x000001D66A0DF670>, 'thresh': 0.1387821624366412, 'fact': 2.5}, 0.8780141843971632)\n"
     ]
    },
    {
     "data": {
      "application/vnd.jupyter.widget-view+json": {
       "model_id": "868ea4720b874c7b883186264eb05e37",
       "version_major": 2,
       "version_minor": 0
      },
      "text/plain": [
       "HBox(children=(FloatProgress(value=0.0, max=1.0), HTML(value='')))"
      ]
     },
     "metadata": {},
     "output_type": "display_data"
    },
    {
     "name": "stdout",
     "output_type": "stream",
     "text": [
      "\n",
      "{'distance': <function l2 at 0x000001D66A0DF670>, 'thresh': 0.1387821624366412, 'fact': 2.5} 0.9829787234042553\n",
      "({'distance': <function l2 at 0x000001D66A0DF670>, 'thresh': 0.1387821624366412, 'fact': 2.5}, 0.9829787234042553)\n"
     ]
    },
    {
     "data": {
      "application/vnd.jupyter.widget-view+json": {
       "model_id": "6540b33b56c94b4c958f724d5d1642eb",
       "version_major": 2,
       "version_minor": 0
      },
      "text/plain": [
       "HBox(children=(FloatProgress(value=0.0, max=1.0), HTML(value='')))"
      ]
     },
     "metadata": {},
     "output_type": "display_data"
    },
    {
     "name": "stdout",
     "output_type": "stream",
     "text": [
      "\n",
      "{'distance': <function l2 at 0x000001D66A0DF670>, 'thresh': 0.1387821624366412, 'fact': 2.5} 0.8666666666666667\n",
      "({'distance': <function l2 at 0x000001D66A0DF670>, 'thresh': 0.1387821624366412, 'fact': 2.5}, 0.8666666666666667)\n"
     ]
    },
    {
     "data": {
      "application/vnd.jupyter.widget-view+json": {
       "model_id": "668e540098b6474f95ef156ce2f1dffa",
       "version_major": 2,
       "version_minor": 0
      },
      "text/plain": [
       "HBox(children=(FloatProgress(value=0.0, max=1.0), HTML(value='')))"
      ]
     },
     "metadata": {},
     "output_type": "display_data"
    },
    {
     "name": "stdout",
     "output_type": "stream",
     "text": [
      "\n",
      "{'distance': <function l2 at 0x000001D66A0DF670>, 'thresh': 0.1387821624366412, 'fact': 2.5} 0.8297872340425532\n",
      "({'distance': <function l2 at 0x000001D66A0DF670>, 'thresh': 0.1387821624366412, 'fact': 2.5}, 0.8297872340425532)\n"
     ]
    },
    {
     "data": {
      "application/vnd.jupyter.widget-view+json": {
       "model_id": "33facdd4872e4e1790f2572e44906d90",
       "version_major": 2,
       "version_minor": 0
      },
      "text/plain": [
       "HBox(children=(FloatProgress(value=0.0, max=1.0), HTML(value='')))"
      ]
     },
     "metadata": {},
     "output_type": "display_data"
    },
    {
     "name": "stdout",
     "output_type": "stream",
     "text": [
      "\n",
      "{'distance': <function l2 at 0x000001D66A0DF670>, 'thresh': 0.1387821624366412, 'fact': 2.5} 0.9787234042553191\n",
      "({'distance': <function l2 at 0x000001D66A0DF670>, 'thresh': 0.1387821624366412, 'fact': 2.5}, 0.9787234042553191)\n"
     ]
    },
    {
     "data": {
      "application/vnd.jupyter.widget-view+json": {
       "model_id": "4fad59ce4d7d42d190516b3a6246bfa8",
       "version_major": 2,
       "version_minor": 0
      },
      "text/plain": [
       "HBox(children=(FloatProgress(value=0.0, max=1.0), HTML(value='')))"
      ]
     },
     "metadata": {},
     "output_type": "display_data"
    },
    {
     "name": "stdout",
     "output_type": "stream",
     "text": [
      "\n",
      "{'distance': <function l2 at 0x000001D66A0DF670>, 'thresh': 0.1387821624366412, 'fact': 2.5} 0.8326241134751773\n",
      "({'distance': <function l2 at 0x000001D66A0DF670>, 'thresh': 0.1387821624366412, 'fact': 2.5}, 0.8326241134751773)\n"
     ]
    },
    {
     "data": {
      "application/vnd.jupyter.widget-view+json": {
       "model_id": "09c7e96c1042432c88cd2b0943dc3f4e",
       "version_major": 2,
       "version_minor": 0
      },
      "text/plain": [
       "HBox(children=(FloatProgress(value=0.0, max=1.0), HTML(value='')))"
      ]
     },
     "metadata": {},
     "output_type": "display_data"
    },
    {
     "name": "stdout",
     "output_type": "stream",
     "text": [
      "\n",
      "{'distance': <function l2 at 0x000001D66A0DF670>, 'thresh': 0.12090138466922633, 'fact': 2.5} 0.8380681818181818\n",
      "({'distance': <function l2 at 0x000001D66A0DF670>, 'thresh': 0.12090138466922633, 'fact': 2.5}, 0.8380681818181818)\n"
     ]
    },
    {
     "data": {
      "application/vnd.jupyter.widget-view+json": {
       "model_id": "0639fee729f449c4a9b02e11957e5567",
       "version_major": 2,
       "version_minor": 0
      },
      "text/plain": [
       "HBox(children=(FloatProgress(value=0.0, max=1.0), HTML(value='')))"
      ]
     },
     "metadata": {},
     "output_type": "display_data"
    },
    {
     "name": "stdout",
     "output_type": "stream",
     "text": [
      "\n",
      "{'distance': <function l2 at 0x000001D66A0DF670>, 'thresh': 0.12090138466922633, 'fact': 2.5} 0.8196022727272727\n",
      "({'distance': <function l2 at 0x000001D66A0DF670>, 'thresh': 0.12090138466922633, 'fact': 2.5}, 0.8196022727272727)\n"
     ]
    },
    {
     "data": {
      "application/vnd.jupyter.widget-view+json": {
       "model_id": "04271e65d1b44bc3bdd4ec7f37a02714",
       "version_major": 2,
       "version_minor": 0
      },
      "text/plain": [
       "HBox(children=(FloatProgress(value=0.0, max=1.0), HTML(value='')))"
      ]
     },
     "metadata": {},
     "output_type": "display_data"
    },
    {
     "name": "stdout",
     "output_type": "stream",
     "text": [
      "\n",
      "{'distance': <function l2 at 0x000001D66A0DF670>, 'thresh': 0.12090138466922633, 'fact': 2.5} 0.9772727272727273\n",
      "({'distance': <function l2 at 0x000001D66A0DF670>, 'thresh': 0.12090138466922633, 'fact': 2.5}, 0.9772727272727273)\n"
     ]
    },
    {
     "data": {
      "application/vnd.jupyter.widget-view+json": {
       "model_id": "b258a9a99ac04f5ba6035c0d4515365f",
       "version_major": 2,
       "version_minor": 0
      },
      "text/plain": [
       "HBox(children=(FloatProgress(value=0.0, max=1.0), HTML(value='')))"
      ]
     },
     "metadata": {},
     "output_type": "display_data"
    },
    {
     "name": "stdout",
     "output_type": "stream",
     "text": [
      "\n",
      "{'distance': <function l2 at 0x000001D66A0DF670>, 'thresh': 0.12090138466922633, 'fact': 2.5} 0.9857954545454546\n",
      "({'distance': <function l2 at 0x000001D66A0DF670>, 'thresh': 0.12090138466922633, 'fact': 2.5}, 0.9857954545454546)\n"
     ]
    },
    {
     "data": {
      "application/vnd.jupyter.widget-view+json": {
       "model_id": "840b5f40ba7f41688df02b3698c8e58d",
       "version_major": 2,
       "version_minor": 0
      },
      "text/plain": [
       "HBox(children=(FloatProgress(value=0.0, max=1.0), HTML(value='')))"
      ]
     },
     "metadata": {},
     "output_type": "display_data"
    },
    {
     "name": "stdout",
     "output_type": "stream",
     "text": [
      "\n",
      "{'distance': <function l2 at 0x000001D66A0DF670>, 'thresh': 0.12090138466922633, 'fact': 2.5} 0.8409090909090909\n",
      "({'distance': <function l2 at 0x000001D66A0DF670>, 'thresh': 0.12090138466922633, 'fact': 2.5}, 0.8409090909090909)\n"
     ]
    },
    {
     "data": {
      "application/vnd.jupyter.widget-view+json": {
       "model_id": "75d15785c56e41848ff74a251c03fd9c",
       "version_major": 2,
       "version_minor": 0
      },
      "text/plain": [
       "HBox(children=(FloatProgress(value=0.0, max=1.0), HTML(value='')))"
      ]
     },
     "metadata": {},
     "output_type": "display_data"
    },
    {
     "name": "stdout",
     "output_type": "stream",
     "text": [
      "\n",
      "{'distance': <function l2 at 0x000001D66A0DF670>, 'thresh': 0.12090138466922633, 'fact': 2.5} 0.8963068181818182\n",
      "({'distance': <function l2 at 0x000001D66A0DF670>, 'thresh': 0.12090138466922633, 'fact': 2.5}, 0.8963068181818182)\n"
     ]
    },
    {
     "data": {
      "application/vnd.jupyter.widget-view+json": {
       "model_id": "39ea0e2628734002bab0a6aaffafd6dd",
       "version_major": 2,
       "version_minor": 0
      },
      "text/plain": [
       "HBox(children=(FloatProgress(value=0.0, max=1.0), HTML(value='')))"
      ]
     },
     "metadata": {},
     "output_type": "display_data"
    },
    {
     "name": "stdout",
     "output_type": "stream",
     "text": [
      "\n",
      "{'distance': <function l2 at 0x000001D66A0DF670>, 'thresh': 0.12090138466922633, 'fact': 2.5} 0.984375\n",
      "({'distance': <function l2 at 0x000001D66A0DF670>, 'thresh': 0.12090138466922633, 'fact': 2.5}, 0.984375)\n"
     ]
    },
    {
     "data": {
      "application/vnd.jupyter.widget-view+json": {
       "model_id": "ca72f68e8a4747ad9796f47f0fca5889",
       "version_major": 2,
       "version_minor": 0
      },
      "text/plain": [
       "HBox(children=(FloatProgress(value=0.0, max=1.0), HTML(value='')))"
      ]
     },
     "metadata": {},
     "output_type": "display_data"
    },
    {
     "name": "stdout",
     "output_type": "stream",
     "text": [
      "\n",
      "{'distance': <function l2 at 0x000001D66A0DF670>, 'thresh': 0.12090138466922633, 'fact': 2.5} 0.84375\n",
      "({'distance': <function l2 at 0x000001D66A0DF670>, 'thresh': 0.12090138466922633, 'fact': 2.5}, 0.84375)\n"
     ]
    },
    {
     "data": {
      "application/vnd.jupyter.widget-view+json": {
       "model_id": "220868a688ec40b0b766d2f21c8f294b",
       "version_major": 2,
       "version_minor": 0
      },
      "text/plain": [
       "HBox(children=(FloatProgress(value=0.0, max=1.0), HTML(value='')))"
      ]
     },
     "metadata": {},
     "output_type": "display_data"
    },
    {
     "name": "stdout",
     "output_type": "stream",
     "text": [
      "\n",
      "{'distance': <function l2 at 0x000001D66A0DF670>, 'thresh': 0.12090138466922633, 'fact': 2.5} 0.9886363636363636\n",
      "({'distance': <function l2 at 0x000001D66A0DF670>, 'thresh': 0.12090138466922633, 'fact': 2.5}, 0.9886363636363636)\n"
     ]
    },
    {
     "data": {
      "application/vnd.jupyter.widget-view+json": {
       "model_id": "cea2cdcd463e45f1b8a7b645b0b0f995",
       "version_major": 2,
       "version_minor": 0
      },
      "text/plain": [
       "HBox(children=(FloatProgress(value=0.0, max=1.0), HTML(value='')))"
      ]
     },
     "metadata": {},
     "output_type": "display_data"
    },
    {
     "name": "stdout",
     "output_type": "stream",
     "text": [
      "\n",
      "{'distance': <function l2 at 0x000001D66A0DF670>, 'thresh': 0.12090138466922633, 'fact': 2.5} 0.9886363636363636\n",
      "({'distance': <function l2 at 0x000001D66A0DF670>, 'thresh': 0.12090138466922633, 'fact': 2.5}, 0.9886363636363636)\n"
     ]
    },
    {
     "data": {
      "application/vnd.jupyter.widget-view+json": {
       "model_id": "188a548171734045b98fb93a10ddd645",
       "version_major": 2,
       "version_minor": 0
      },
      "text/plain": [
       "HBox(children=(FloatProgress(value=0.0, max=1.0), HTML(value='')))"
      ]
     },
     "metadata": {},
     "output_type": "display_data"
    },
    {
     "name": "stdout",
     "output_type": "stream",
     "text": [
      "\n",
      "{'distance': <function l2 at 0x000001D66A0DF670>, 'thresh': 0.11181683938700579, 'fact': 2.5} 0.7594202898550725\n",
      "({'distance': <function l2 at 0x000001D66A0DF670>, 'thresh': 0.11181683938700579, 'fact': 2.5}, 0.7594202898550725)\n"
     ]
    },
    {
     "data": {
      "application/vnd.jupyter.widget-view+json": {
       "model_id": "056e63f16e59433b9cc423d9fdd53f34",
       "version_major": 2,
       "version_minor": 0
      },
      "text/plain": [
       "HBox(children=(FloatProgress(value=0.0, max=1.0), HTML(value='')))"
      ]
     },
     "metadata": {},
     "output_type": "display_data"
    }
   ],
   "source": [
    "\n",
    "best_params = []\n",
    "best_scores = []\n",
    "noise = [0.05,0.1,0.15,0.2]\n",
    "thresholds = (np.array(noise)*0.2990+0.019)\n",
    "best_params_res= []\n",
    "\n",
    "for t,i in enumerate(tqdm(['24','20','16','12','8'])):\n",
    "    resolution_res = []\n",
    "    for j in ['e1','e2','d1','d2']:\n",
    "        spike_times = np.array(names['data_'+j]['spike_times'][0][0][0])\n",
    "        signal = names['spikes_'+j+'_sr_' + str(i)]\n",
    "        sigma = np.std(signal)\n",
    "\n",
    "        signals = list(map(lambda x: signal[int((x+15)*int(i)/24):int((x+40)*int(i)/24)],spike_times))\n",
    "        \n",
    "        gt = names['data_'+j]['spike_class'][0][0][0]\n",
    "        scores = []\n",
    "        l1_params ={\n",
    "            'distance':[l2],\n",
    "            'thresh':[thresh_calc(sigma,i)],\n",
    "            'fact':[factor(i)]\n",
    "\n",
    "        }\n",
    "        for loop in range(10):\n",
    "\n",
    "            l1_score = hypertune(l1_params,[signals],[gt],approx_update,False)\n",
    "            print(l1_score)\n",
    "            scores.append(l1_score)\n",
    "        resolution_res.append(scores)\n",
    "\n",
    "    best_params_res.append(resolution_res)\n"
   ]
  },
  {
   "cell_type": "markdown",
   "metadata": {},
   "source": [
    "best_params_res"
   ]
  },
  {
   "cell_type": "code",
   "execution_count": 32,
   "metadata": {},
   "outputs": [
    {
     "data": {
      "text/plain": [
       "array([[0.98056738, 0.98366477, 0.97521739, 0.98311688],\n",
       "       [0.98212766, 0.98409091, 0.96405797, 0.98614719],\n",
       "       [0.92567376, 0.89872159, 0.79405797, 0.98672439],\n",
       "       [0.62978723, 0.70482955, 0.39695652, 0.7987013 ],\n",
       "       [0.52765957, 0.50653409, 0.2442029 , 0.53362193]])"
      ]
     },
     "execution_count": 32,
     "metadata": {},
     "output_type": "execute_result"
    }
   ],
   "source": [
    "scores = []\n",
    "for res in best_params_res:\n",
    "    res_score = []\n",
    "    for dataset in res:\n",
    "        data_score= [trial[1] for trial in dataset]\n",
    "        res_score.append(data_score)\n",
    "        \n",
    "    scores.append(res_score)\n",
    "values = np.mean(scores,axis=2)\n",
    "stes=(np.std(np.array(scores)*100,axis=2).T/np.sqrt(10))\n",
    "values"
   ]
  },
  {
   "cell_type": "code",
   "execution_count": 36,
   "metadata": {},
   "outputs": [
    {
     "data": {
      "image/png": "[encoded data removed]",
      "text/plain": [
       "<Figure size 432x345.6 with 1 Axes>"
      ]
     },
     "metadata": {
      "needs_background": "light"
     },
     "output_type": "display_data"
    }
   ],
   "source": [
    "plt.figure(figsize=(6,4.8))\n",
    "resolutions= [24,20,16,12,8]\n",
    "titles = ['Easy 1','Easy 2', 'Difficult 1','Difficult 2']\n",
    "\n",
    "for i in range(len(titles)):\n",
    "    plt.plot(resolutions,values[:,i]*100,color = 'rgbk'[i],marker='o',markersize=6,linewidth = '4',label=titles[i])\n",
    "plt.ylim(50,100)\n",
    "plt.xticks(resolutions,size = 14)\n",
    "plt.gca().invert_xaxis()\n",
    "plt.yticks(size = 14)\n",
    "plt.xlabel('Sampling Rate (kS/s)',fontsize=15,fontname=\"Arial\")\n",
    "plt.ylabel('Sorting Accuracy (%)',fontsize=15,fontname=\"Arial\")\n",
    "plt.legend(loc='lower left',prop={'family': 'Arial'})\n",
    "plt.savefig('RateVSAccuracy.png',dpi=400, transparent=True,bbox_inches = 'tight')\n",
    "## 16,14,10"
   ]
  },
  {
   "cell_type": "code",
   "execution_count": null,
   "metadata": {},
   "outputs": [],
   "source": []
  }
 ],
 "metadata": {
  "kernelspec": {
   "display_name": "Python 3",
   "language": "python",
   "name": "python3"
  },
  "language_info": {
   "codemirror_mode": {
    "name": "ipython",
    "version": 3
   },
   "file_extension": ".py",
   "mimetype": "text/x-python",
   "name": "python",
   "nbconvert_exporter": "python",
   "pygments_lexer": "ipython3",
   "version": "3.8.3"
  }
 },
 "nbformat": 4,
 "nbformat_minor": 5
}
