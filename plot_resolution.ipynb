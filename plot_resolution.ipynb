{
 "cells": [
  {
   "cell_type": "code",
   "execution_count": 4,
   "metadata": {},
   "outputs": [],
   "source": [
    "from model import *"
   ]
  },
  {
   "cell_type": "markdown",
   "metadata": {},
   "source": [
    "# Prepare Dataset"
   ]
  },
  {
   "cell_type": "code",
   "execution_count": 5,
   "metadata": {},
   "outputs": [],
   "source": [
    "names = locals()\n",
    "for w in ['005','01','015','02']:\n",
    "    names['dataFile_e2'+str(w)] = '.\\Simulator\\C_Easy2_noise'+ str(w)+'.mat'\n",
    "    names['dataFile_e1'+str(w)] = '.\\Simulator\\C_Easy1_noise'+ str(w)+'.mat'\n",
    "    names['dataFile_d1'+str(w)] = '.\\Simulator\\C_Difficult1_noise'+ str(w)+'.mat'\n",
    "    names['dataFile_d2'+str(w)] = '.\\Simulator\\C_Difficult2_noise'+ str(w)+'.mat'# path is needed to be changed\n",
    "    names['data_e1'+str(w)],names['data_e2'+str(w)],names['data_d1'+str(w)],names['data_d2'+str(w)] = scio.loadmat(names['dataFile_e1'+str(w)]),scio.loadmat(names['dataFile_e2'+str(w)]),scio.loadmat(names['dataFile_d1'+str(w)]),scio.loadmat(names['dataFile_d2'+str(w)])\n",
    "    names['spikes_e1'+str(w)],names['spikes_e2'+str(w)],names['spikes_d1'+str(w)],names['spikes_d2'+str(w)] =  names['data_e1'+str(w)]['data'][0], names['data_e2'+str(w)]['data'][0],names['data_d1'+str(w)]['data'][0],names['data_d2'+str(w)]['data'][0]\n",
    "    names['index_e1'+str(w)] = names['index_e2'+str(w)] = names['index_d1'+str(w)] = names['index_d2'+str(w)] = np.array(range(len(names['spikes_e2'+str(w)])))\n",
    "    for i in ['_e1','_e2','_d1','_d2']:\n",
    "        names['min'+str(i)+str(w)],names['max'+str(i)+str(w)] = names['spikes'+str(i)+str(w)].min(), names['spikes'+str(i)+str(w)].max()\n",
    "        names['maxvalue'+str(i)+str(w)] = max(abs(names['min'+str(i)+str(w)]),names['max'+str(i)+str(w)])\n",
    "        names['spikes_nor'+str(i)+str(w)] = (names['spikes'+str(i)+str(w)])/names['maxvalue'+str(i)+str(w)]"
   ]
  },
  {
   "cell_type": "code",
   "execution_count": 6,
   "metadata": {},
   "outputs": [],
   "source": [
    "## Get The Different Resolutions\n",
    "for w in ['005','01','015','02']:\n",
    "    for j in ['3','4','5','6','7','8','10']:\n",
    "        for i in ['_e1','_e2','_d1','_d2']:\n",
    "            names['spikes'+str(i)+'_rs_' + str(j)+str(w)] = np.around(names['spikes_nor'+str(i)+str(w)] * pow(2,int(j)-1))\n",
    "            #names['spikes'+str(i)+'_rs_' + str(j)+str(w)] -= np.mean(names['spikes'+str(i)+'_rs_' + str(j)+str(w)])"
   ]
  },
  {
   "cell_type": "code",
   "execution_count": null,
   "metadata": {
    "scrolled": false
   },
   "outputs": [
    {
     "data": {
      "application/vnd.jupyter.widget-view+json": {
       "model_id": "4ebdb5a3af0746a78bee3371cdf38b7e",
       "version_major": 2,
       "version_minor": 0
      },
      "text/plain": [
       "HBox(children=(FloatProgress(value=0.0, max=4.0), HTML(value='')))"
      ]
     },
     "metadata": {},
     "output_type": "display_data"
    },
    {
     "data": {
      "application/vnd.jupyter.widget-view+json": {
       "model_id": "2be433dcd34246d2a3960be2d969800f",
       "version_major": 2,
       "version_minor": 0
      },
      "text/plain": [
       "HBox(children=(FloatProgress(value=0.0, max=7.0), HTML(value='')))"
      ]
     },
     "metadata": {},
     "output_type": "display_data"
    },
    {
     "name": "stderr",
     "output_type": "stream",
     "text": [
      "C:\\Users\\morta\\anaconda3\\lib\\site-packages\\sklearn\\utils\\linear_assignment_.py:124: FutureWarning: The linear_assignment function is deprecated in 0.21 and will be removed from 0.23. Use scipy.optimize.linear_sum_assignment instead.\n",
      "  warnings.warn(\n"
     ]
    },
    {
     "name": "stdout",
     "output_type": "stream",
     "text": [
      "0.6870554765291608\n",
      "0.6273115220483642\n",
      "0.6642958748221907\n",
      "0.6955903271692745\n",
      "0.6770981507823614\n",
      "0.7800586510263929\n",
      "0.7228739002932552\n",
      "0.7800586510263929\n",
      "0.7478005865102639\n",
      "0.7624633431085044\n",
      "0.44903988183161003\n",
      "0.4239290989660266\n",
      "0.44165435745937964\n",
      "0.4342688330871492\n",
      "0.4431314623338257\n",
      "0.6686478454680534\n",
      "0.6671619613670133\n",
      "0.6537890044576523\n",
      "0.6835066864784547\n",
      "0.674591381872214\n",
      "0.8165007112375533\n",
      "0.8307254623044097\n",
      "0.817923186344239\n",
      "0.786628733997155\n",
      "0.8079658605974396\n",
      "0.6642228739002932\n",
      "0.5703812316715543\n",
      "0.6994134897360704\n",
      "0.7272727272727273\n",
      "0.6231671554252199\n",
      "0.4519940915805022\n",
      "0.4327917282127031\n",
      "0.4534711964549483\n",
      "0.465288035450517\n",
      "0.4239290989660266\n",
      "0.6641901931649331\n",
      "0.6315007429420505\n",
      "0.6805349182763745\n",
      "0.6953937592867756\n",
      "0.6196136701337296\n",
      "0.8321479374110953\n",
      "0.7183499288762447\n",
      "0.7439544807965861\n",
      "0.6458036984352774\n",
      "0.7695590327169275\n",
      "0.7316715542521994\n",
      "0.5689149560117303\n",
      "0.7287390029325513\n",
      "0.6363636363636364\n",
      "0.5835777126099707\n",
      "0.49926144756277696\n",
      "0.5125553914327917\n",
      "0.5553914327917282\n",
      "0.5598227474150664\n",
      "0.5332348596750369\n",
      "0.6731054977711739\n",
      "0.7087667161961367\n",
      "0.6805349182763745\n",
      "0.6968796433878157\n",
      "0.6909361069836553\n",
      "0.8918918918918919\n",
      "0.9786628733997155\n",
      "0.9786628733997155\n",
      "0.8364153627311522\n",
      "0.689900426742532\n",
      "0.9794721407624634\n",
      "0.9002932551319648\n",
      "0.843108504398827\n",
      "0.9838709677419355\n",
      "0.9853372434017595\n",
      "0.8774002954209749\n",
      "0.8138847858197932\n",
      "0.7784342688330872\n",
      "0.7976366322008862\n",
      "0.9527326440177253\n",
      "0.9851411589895989\n",
      "0.9910846953937593\n",
      "0.9895988112927192\n",
      "0.9851411589895989\n",
      "0.9836552748885586\n",
      "0.9786628733997155\n",
      "0.9701280227596017\n",
      "0.972972972972973\n",
      "0.8933143669985776\n",
      "0.9701280227596017\n",
      "0.9824046920821115\n",
      "0.9897360703812317\n",
      "0.9780058651026393\n",
      "0.9838709677419355\n",
      "0.9824046920821115\n",
      "0.9807976366322009\n",
      "0.982274741506647\n",
      "0.9807976366322009\n",
      "0.9202363367799113\n",
      "0.983751846381093\n",
      "0.9881129271916791\n",
      "0.974739970282318\n",
      "0.9836552748885586\n",
      "0.9851411589895989\n",
      "0.9851411589895989\n",
      "0.9786628733997155\n",
      "0.9800853485064012\n",
      "0.9758179231863442\n",
      "0.972972972972973\n",
      "0.9772403982930299\n",
      "0.9838709677419355\n",
      "0.9824046920821115\n",
      "0.9809384164222874\n",
      "0.9868035190615836\n",
      "0.9838709677419355\n",
      "0.9807976366322009\n",
      "0.9734121122599705\n",
      "0.9734121122599705\n",
      "0.983751846381093\n",
      "0.982274741506647\n",
      "0.9836552748885586\n",
      "0.9791976225854383\n",
      "0.9821693907875185\n",
      "0.9777117384843982\n",
      "0.9910846953937593\n",
      "0.9815078236130867\n",
      "0.9701280227596017\n",
      "0.9701280227596017\n",
      "0.9800853485064012\n",
      "0.9758179231863442\n",
      "0.9765395894428153\n"
     ]
    }
   ],
   "source": [
    "fact = 24\n",
    "best_params = []\n",
    "best_scores = []\n",
    "noise = [0.05,0.1,0.15,0.2]\n",
    "thresholds = (np.array(noise)*0.2990+0.019)\n",
    "for ind,w in enumerate(tqdm(['005','01','015','02'])):\n",
    "    best_params_res= []\n",
    "    for t,i in enumerate(tqdm(['3','4','5','6','7','8','10'])):\n",
    "        resolution_res = []\n",
    "        for j in ['e1','e2','d1','d2']:\n",
    "            spike_times = names['data_'+j+str(w)]['spike_times'][0][0][0]\n",
    "            signal = np.array(names['spikes_'+str(j)+'_rs_'+str(i)+str(w)])/(2**(int(i)-2))\n",
    "            sigma = np.std(signal)\n",
    "            signals = list(map(lambda x: signal[x+15:x+40],spike_times))\n",
    "            features= [feature_extraction(signal,factor('24')) for signal in signals]\n",
    "            gt = names['data_'+j+str(w)]['spike_class'][0][0][0]\n",
    "            scores = []\n",
    "            l1_params ={\n",
    "                'distance':l2,\n",
    "                'thresh':thresh_calc(sigma,'24'),\n",
    "            }\n",
    "            for loop in range(5):\n",
    "                l1_score = train_predict(l1_params,features,gt,approx_update,False)\n",
    "                print(l1_score)\n",
    "                scores.append(l1_score)\n",
    "            resolution_res.append(scores)\n",
    "\n",
    "        best_params_res.append(resolution_res)\n",
    "    best_scores.append(best_params_res)"
   ]
  },
  {
   "cell_type": "code",
   "execution_count": 38,
   "metadata": {},
   "outputs": [
    {
     "data": {
      "text/plain": [
       "array([[0.50088929, 0.37386231, 0.32397883, 0.41623543],\n",
       "       [1.20290359, 0.81748825, 0.68861546, 0.44562446],\n",
       "       [2.23647838, 2.57927862, 2.04578346, 2.33320721],\n",
       "       [1.67498731, 0.89707637, 0.82813766, 0.87124299],\n",
       "       [0.08674604, 0.51778199, 0.07925252, 0.08227194],\n",
       "       [0.08935564, 0.09260231, 0.55719673, 0.68055031],\n",
       "       [0.22539667, 0.22445879, 0.76908585, 0.41397592]])"
      ]
     },
     "execution_count": 38,
     "metadata": {},
     "output_type": "execute_result"
    }
   ],
   "source": [
    "values = np.mean(np.array\n",
    "                 (best_scores),axis=3)[1]\n",
    "stes = (np.std(np.array(best_scores)*100,axis=3).T/np.sqrt(20))[1]\n",
    "stes"
   ]
  },
  {
   "cell_type": "code",
   "execution_count": 39,
   "metadata": {},
   "outputs": [],
   "source": [
    "matplotlib.rcParams['font.family'] = \"sans-serif\"\n",
    "matplotlib.rcParams['font.sans-serif'] = \"Comic Sans MS\""
   ]
  },
  {
   "cell_type": "code",
   "execution_count": 45,
   "metadata": {},
   "outputs": [
    {
     "data": {
      "image/png": "[encoded data removed]",
      "text/plain": [
       "<Figure size 432x345.6 with 1 Axes>"
      ]
     },
     "metadata": {
      "needs_background": "light"
     },
     "output_type": "display_data"
    }
   ],
   "source": [
    "plt.figure(figsize=(6,4.8))\n",
    "resolutions= [4,5,6,7,8,10]\n",
    "titles = ['Easy 1','Easy 2', 'Difficult 1','Difficult 2']\n",
    "\n",
    "for i in range(4):\n",
    "    plt.plot(resolutions,values[:-1,i]*100,color = 'rgbk'[i],marker='o',markersize=6,linewidth = '4',label=titles[i])\n",
    "plt.ylim(50,100)\n",
    "plt.gca().invert_xaxis()\n",
    "plt.xticks(resolutions,size = 14)\n",
    "plt.yticks(size = 14)\n",
    "plt.xlabel('Data Resolution (bits)',fontsize=15,fontname=\"Arial\")\n",
    "plt.ylabel('Sorting Accuracy (%)',fontsize=15,fontname=\"Arial\")\n",
    "plt.legend(loc='lower left',prop={'family': 'Arial'})\n",
    "plt.savefig('ResolutionVSAccuracy.png',dpi=400, transparent=True,bbox_inches = 'tight')\n"
   ]
  }
 ],
 "metadata": {
  "kernelspec": {
   "display_name": "Python 3",
   "language": "python",
   "name": "python3"
  },
  "language_info": {
   "codemirror_mode": {
    "name": "ipython",
    "version": 3
   },
   "file_extension": ".py",
   "mimetype": "text/x-python",
   "name": "python",
   "nbconvert_exporter": "python",
   "pygments_lexer": "ipython3",
   "version": "3.8.3"
  }
 },
 "nbformat": 4,
 "nbformat_minor": 5
}
